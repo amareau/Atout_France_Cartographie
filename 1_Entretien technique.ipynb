{
 "cells": [
  {
   "cell_type": "markdown",
   "metadata": {},
   "source": [
    "# Vérification de la version de python"
   ]
  },
  {
   "cell_type": "code",
   "execution_count": 1,
   "metadata": {},
   "outputs": [
    {
     "name": "stdout",
     "output_type": "stream",
     "text": [
      "3.7.11 (default, Jul 27 2021, 09:42:29) [MSC v.1916 64 bit (AMD64)]\n"
     ]
    }
   ],
   "source": [
    "import sys\n",
    "print(sys.version)"
   ]
  },
  {
   "cell_type": "markdown",
   "metadata": {},
   "source": [
    "# Importation des packages"
   ]
  },
  {
   "cell_type": "code",
   "execution_count": 2,
   "metadata": {},
   "outputs": [],
   "source": [
    "import numpy as np\n",
    "import pandas as pd\n",
    "import geopandas as gpd\n",
    "from keplergl import KeplerGl\n",
    "\n",
    "# Pour la récupération de la base de données data.gouv.fr\n",
    "import requests\n",
    "import tempfile\n",
    "import zipfile"
   ]
  },
  {
   "cell_type": "markdown",
   "metadata": {},
   "source": [
    "# Définition de fonctions"
   ]
  },
  {
   "cell_type": "markdown",
   "metadata": {},
   "source": [
    "- Fonction récupérée sur la page web **(1)** du paragraphe **Sources**"
   ]
  },
  {
   "cell_type": "code",
   "execution_count": 3,
   "metadata": {},
   "outputs": [],
   "source": [
    "def download_unzip(url, dirname = tempfile.gettempdir(), destname = \"borders\"):\n",
    "  myfile = requests.get(url)\n",
    "  open(\"{}/{}.zip\".format(dirname, destname), 'wb').write(myfile.content)\n",
    "  with zipfile.ZipFile(\"{}/{}.zip\".format(dirname, destname), 'r') as zip_ref:\n",
    "      zip_ref.extractall(dirname + '/' + destname)"
   ]
  },
  {
   "cell_type": "markdown",
   "metadata": {},
   "source": [
    "# Importation des données"
   ]
  },
  {
   "cell_type": "markdown",
   "metadata": {},
   "source": [
    "### Base de données *Atout France*"
   ]
  },
  {
   "cell_type": "code",
   "execution_count": 4,
   "metadata": {},
   "outputs": [
    {
     "data": {
      "text/html": [
       "<div>\n",
       "<style scoped>\n",
       "    .dataframe tbody tr th:only-of-type {\n",
       "        vertical-align: middle;\n",
       "    }\n",
       "\n",
       "    .dataframe tbody tr th {\n",
       "        vertical-align: top;\n",
       "    }\n",
       "\n",
       "    .dataframe thead th {\n",
       "        text-align: right;\n",
       "    }\n",
       "</style>\n",
       "<table border=\"1\" class=\"dataframe\">\n",
       "  <thead>\n",
       "    <tr style=\"text-align: right;\">\n",
       "      <th></th>\n",
       "      <th>CODGEO</th>\n",
       "      <th>POP18</th>\n",
       "      <th>Lits marchands 2018 (hors PtoP)</th>\n",
       "      <th>Lits touristiques 2021 inc. PtoP</th>\n",
       "      <th>P18_RSECOCC</th>\n",
       "      <th>Lits marchands 2015 (hors PtoP)</th>\n",
       "      <th>P15_RSECOCC</th>\n",
       "      <th>LIBGEO</th>\n",
       "    </tr>\n",
       "  </thead>\n",
       "  <tbody>\n",
       "    <tr>\n",
       "      <th>0</th>\n",
       "      <td>6001</td>\n",
       "      <td>93</td>\n",
       "      <td>0</td>\n",
       "      <td>296.000000</td>\n",
       "      <td>56.000000</td>\n",
       "      <td>64</td>\n",
       "      <td>51.696721</td>\n",
       "      <td>Aiglun</td>\n",
       "    </tr>\n",
       "    <tr>\n",
       "      <th>1</th>\n",
       "      <td>6002</td>\n",
       "      <td>60</td>\n",
       "      <td>0</td>\n",
       "      <td>109.000000</td>\n",
       "      <td>21.000000</td>\n",
       "      <td>0</td>\n",
       "      <td>17.000000</td>\n",
       "      <td>Amirat</td>\n",
       "    </tr>\n",
       "    <tr>\n",
       "      <th>2</th>\n",
       "      <td>6003</td>\n",
       "      <td>655</td>\n",
       "      <td>24</td>\n",
       "      <td>2580.000000</td>\n",
       "      <td>500.000000</td>\n",
       "      <td>172</td>\n",
       "      <td>459.280576</td>\n",
       "      <td>Andon</td>\n",
       "    </tr>\n",
       "    <tr>\n",
       "      <th>3</th>\n",
       "      <td>6004</td>\n",
       "      <td>74047</td>\n",
       "      <td>10517</td>\n",
       "      <td>145083.979374</td>\n",
       "      <td>22825.595875</td>\n",
       "      <td>13876</td>\n",
       "      <td>21090.166718</td>\n",
       "      <td>Antibes</td>\n",
       "    </tr>\n",
       "    <tr>\n",
       "      <th>4</th>\n",
       "      <td>6005</td>\n",
       "      <td>172</td>\n",
       "      <td>0</td>\n",
       "      <td>599.638227</td>\n",
       "      <td>113.327645</td>\n",
       "      <td>0</td>\n",
       "      <td>125.529661</td>\n",
       "      <td>Ascros</td>\n",
       "    </tr>\n",
       "  </tbody>\n",
       "</table>\n",
       "</div>"
      ],
      "text/plain": [
       "   CODGEO  POP18  Lits marchands 2018 (hors PtoP)  \\\n",
       "0    6001     93                                0   \n",
       "1    6002     60                                0   \n",
       "2    6003    655                               24   \n",
       "3    6004  74047                            10517   \n",
       "4    6005    172                                0   \n",
       "\n",
       "   Lits touristiques 2021 inc. PtoP   P18_RSECOCC  \\\n",
       "0                        296.000000     56.000000   \n",
       "1                        109.000000     21.000000   \n",
       "2                       2580.000000    500.000000   \n",
       "3                     145083.979374  22825.595875   \n",
       "4                        599.638227    113.327645   \n",
       "\n",
       "   Lits marchands 2015 (hors PtoP)   P15_RSECOCC   LIBGEO  \n",
       "0                               64     51.696721   Aiglun  \n",
       "1                                0     17.000000   Amirat  \n",
       "2                              172    459.280576    Andon  \n",
       "3                            13876  21090.166718  Antibes  \n",
       "4                                0    125.529661   Ascros  "
      ]
     },
     "execution_count": 4,
     "metadata": {},
     "output_type": "execute_result"
    }
   ],
   "source": [
    "BDD = pd.read_csv(\"Base de données Atout France.csv\", sep = \";\")\n",
    "BDD.head()"
   ]
  },
  {
   "cell_type": "code",
   "execution_count": 5,
   "metadata": {},
   "outputs": [
    {
     "data": {
      "text/plain": [
       "(3071, 8)"
      ]
     },
     "execution_count": 5,
     "metadata": {},
     "output_type": "execute_result"
    }
   ],
   "source": [
    "BDD.shape # Dimension du tableau"
   ]
  },
  {
   "cell_type": "markdown",
   "metadata": {},
   "source": [
    "### Base de données du découpage administratif communal français issu d'OpenStreetMap (*data.gouv.fr*)\n",
    "\n",
    "On utilise cette base pour récupérer les latitudes et longitudes de chaque commune française.\n",
    "\n",
    "**A savoir :** Depuis le 1er janvier 2022, les communes Saint-Gérand et Croixanvec sont des communes déléguées de la commune nouvelle de Saint-Gérand-Croixanvec **(2)**. Ces communes ne font donc plus partie de la base de données actuelle de *data.gouv.fr* mais font partie néanmoins de notre base de données Atout France. On choisit donc de prendre l'avant dernière version de la base *data.gouv.fr* (01/01/2021) afin de garder ces deux communes."
   ]
  },
  {
   "cell_type": "code",
   "execution_count": 6,
   "metadata": {},
   "outputs": [],
   "source": [
    "url = 'https://www.data.gouv.fr/fr/datasets/r/17062524-991f-4e13-9bf0-b410cc2216fd'\n",
    "\n",
    "temporary_location = tempfile.gettempdir()\n",
    "\n",
    "download_unzip(url)\n",
    "communes = gpd.read_file(temporary_location + \"/borders/communes-20210101.shp\")"
   ]
  },
  {
   "cell_type": "code",
   "execution_count": 7,
   "metadata": {},
   "outputs": [
    {
     "data": {
      "text/html": [
       "<div>\n",
       "<style scoped>\n",
       "    .dataframe tbody tr th:only-of-type {\n",
       "        vertical-align: middle;\n",
       "    }\n",
       "\n",
       "    .dataframe tbody tr th {\n",
       "        vertical-align: top;\n",
       "    }\n",
       "\n",
       "    .dataframe thead th {\n",
       "        text-align: right;\n",
       "    }\n",
       "</style>\n",
       "<table border=\"1\" class=\"dataframe\">\n",
       "  <thead>\n",
       "    <tr style=\"text-align: right;\">\n",
       "      <th></th>\n",
       "      <th>insee</th>\n",
       "      <th>nom</th>\n",
       "      <th>wikipedia</th>\n",
       "      <th>surf_ha</th>\n",
       "      <th>geometry</th>\n",
       "    </tr>\n",
       "  </thead>\n",
       "  <tbody>\n",
       "    <tr>\n",
       "      <th>0</th>\n",
       "      <td>30225</td>\n",
       "      <td>Sabran</td>\n",
       "      <td>fr:Sabran (Gard)</td>\n",
       "      <td>3563.0</td>\n",
       "      <td>POLYGON ((4.49703 44.14344, 4.49727 44.14398, ...</td>\n",
       "    </tr>\n",
       "    <tr>\n",
       "      <th>1</th>\n",
       "      <td>26334</td>\n",
       "      <td>Salettes</td>\n",
       "      <td>fr:Salettes (Drôme)</td>\n",
       "      <td>706.0</td>\n",
       "      <td>POLYGON ((4.94213 44.57481, 4.94283 44.57501, ...</td>\n",
       "    </tr>\n",
       "    <tr>\n",
       "      <th>2</th>\n",
       "      <td>04200</td>\n",
       "      <td>Salignac</td>\n",
       "      <td>fr:Salignac (Alpes-de-Haute-Provence)</td>\n",
       "      <td>1435.0</td>\n",
       "      <td>POLYGON ((5.95337 44.15613, 5.95341 44.15649, ...</td>\n",
       "    </tr>\n",
       "    <tr>\n",
       "      <th>3</th>\n",
       "      <td>04179</td>\n",
       "      <td>Saint-Geniez</td>\n",
       "      <td>fr:Saint-Geniez</td>\n",
       "      <td>3900.0</td>\n",
       "      <td>POLYGON ((5.98593 44.23280, 5.98654 44.23292, ...</td>\n",
       "    </tr>\n",
       "    <tr>\n",
       "      <th>4</th>\n",
       "      <td>05162</td>\n",
       "      <td>La Saulce</td>\n",
       "      <td>fr:La Saulce</td>\n",
       "      <td>771.0</td>\n",
       "      <td>POLYGON ((5.98920 44.41892, 5.98921 44.41894, ...</td>\n",
       "    </tr>\n",
       "  </tbody>\n",
       "</table>\n",
       "</div>"
      ],
      "text/plain": [
       "   insee           nom                              wikipedia  surf_ha  \\\n",
       "0  30225        Sabran                       fr:Sabran (Gard)   3563.0   \n",
       "1  26334      Salettes                    fr:Salettes (Drôme)    706.0   \n",
       "2  04200      Salignac  fr:Salignac (Alpes-de-Haute-Provence)   1435.0   \n",
       "3  04179  Saint-Geniez                        fr:Saint-Geniez   3900.0   \n",
       "4  05162     La Saulce                           fr:La Saulce    771.0   \n",
       "\n",
       "                                            geometry  \n",
       "0  POLYGON ((4.49703 44.14344, 4.49727 44.14398, ...  \n",
       "1  POLYGON ((4.94213 44.57481, 4.94283 44.57501, ...  \n",
       "2  POLYGON ((5.95337 44.15613, 5.95341 44.15649, ...  \n",
       "3  POLYGON ((5.98593 44.23280, 5.98654 44.23292, ...  \n",
       "4  POLYGON ((5.98920 44.41892, 5.98921 44.41894, ...  "
      ]
     },
     "execution_count": 7,
     "metadata": {},
     "output_type": "execute_result"
    }
   ],
   "source": [
    "communes.head()"
   ]
  },
  {
   "cell_type": "code",
   "execution_count": 8,
   "metadata": {},
   "outputs": [
    {
     "data": {
      "text/plain": [
       "(34969, 5)"
      ]
     },
     "execution_count": 8,
     "metadata": {},
     "output_type": "execute_result"
    }
   ],
   "source": [
    "communes.shape"
   ]
  },
  {
   "cell_type": "markdown",
   "metadata": {},
   "source": [
    "# Manipulation des données"
   ]
  },
  {
   "cell_type": "markdown",
   "metadata": {},
   "source": [
    "### Base *Atout France*\n",
    "\n",
    "Tout d'abord, on remarque que certains codes INSEE (colonne *CODGEO*) comportent seulement 4 chiffres, à savoir les codes INSEE commençant normalement par \"0\". On va donc les rajouter et considérer la colonne *CODGEO* comme une liste de caractères et non d'entiers."
   ]
  },
  {
   "cell_type": "code",
   "execution_count": 9,
   "metadata": {},
   "outputs": [],
   "source": [
    "BDD[\"CODGEO\"] = BDD[\"CODGEO\"].apply(lambda x: str(x).zfill(5))"
   ]
  },
  {
   "cell_type": "code",
   "execution_count": 10,
   "metadata": {},
   "outputs": [
    {
     "data": {
      "text/html": [
       "<div>\n",
       "<style scoped>\n",
       "    .dataframe tbody tr th:only-of-type {\n",
       "        vertical-align: middle;\n",
       "    }\n",
       "\n",
       "    .dataframe tbody tr th {\n",
       "        vertical-align: top;\n",
       "    }\n",
       "\n",
       "    .dataframe thead th {\n",
       "        text-align: right;\n",
       "    }\n",
       "</style>\n",
       "<table border=\"1\" class=\"dataframe\">\n",
       "  <thead>\n",
       "    <tr style=\"text-align: right;\">\n",
       "      <th></th>\n",
       "      <th>CODGEO</th>\n",
       "      <th>POP18</th>\n",
       "      <th>Lits marchands 2018 (hors PtoP)</th>\n",
       "      <th>Lits touristiques 2021 inc. PtoP</th>\n",
       "      <th>P18_RSECOCC</th>\n",
       "      <th>Lits marchands 2015 (hors PtoP)</th>\n",
       "      <th>P15_RSECOCC</th>\n",
       "      <th>LIBGEO</th>\n",
       "    </tr>\n",
       "  </thead>\n",
       "  <tbody>\n",
       "    <tr>\n",
       "      <th>0</th>\n",
       "      <td>06001</td>\n",
       "      <td>93</td>\n",
       "      <td>0</td>\n",
       "      <td>296.000000</td>\n",
       "      <td>56.000000</td>\n",
       "      <td>64</td>\n",
       "      <td>51.696721</td>\n",
       "      <td>Aiglun</td>\n",
       "    </tr>\n",
       "    <tr>\n",
       "      <th>1</th>\n",
       "      <td>06002</td>\n",
       "      <td>60</td>\n",
       "      <td>0</td>\n",
       "      <td>109.000000</td>\n",
       "      <td>21.000000</td>\n",
       "      <td>0</td>\n",
       "      <td>17.000000</td>\n",
       "      <td>Amirat</td>\n",
       "    </tr>\n",
       "    <tr>\n",
       "      <th>2</th>\n",
       "      <td>06003</td>\n",
       "      <td>655</td>\n",
       "      <td>24</td>\n",
       "      <td>2580.000000</td>\n",
       "      <td>500.000000</td>\n",
       "      <td>172</td>\n",
       "      <td>459.280576</td>\n",
       "      <td>Andon</td>\n",
       "    </tr>\n",
       "    <tr>\n",
       "      <th>3</th>\n",
       "      <td>06004</td>\n",
       "      <td>74047</td>\n",
       "      <td>10517</td>\n",
       "      <td>145083.979374</td>\n",
       "      <td>22825.595875</td>\n",
       "      <td>13876</td>\n",
       "      <td>21090.166718</td>\n",
       "      <td>Antibes</td>\n",
       "    </tr>\n",
       "    <tr>\n",
       "      <th>4</th>\n",
       "      <td>06005</td>\n",
       "      <td>172</td>\n",
       "      <td>0</td>\n",
       "      <td>599.638227</td>\n",
       "      <td>113.327645</td>\n",
       "      <td>0</td>\n",
       "      <td>125.529661</td>\n",
       "      <td>Ascros</td>\n",
       "    </tr>\n",
       "  </tbody>\n",
       "</table>\n",
       "</div>"
      ],
      "text/plain": [
       "  CODGEO  POP18  Lits marchands 2018 (hors PtoP)  \\\n",
       "0  06001     93                                0   \n",
       "1  06002     60                                0   \n",
       "2  06003    655                               24   \n",
       "3  06004  74047                            10517   \n",
       "4  06005    172                                0   \n",
       "\n",
       "   Lits touristiques 2021 inc. PtoP   P18_RSECOCC  \\\n",
       "0                        296.000000     56.000000   \n",
       "1                        109.000000     21.000000   \n",
       "2                       2580.000000    500.000000   \n",
       "3                     145083.979374  22825.595875   \n",
       "4                        599.638227    113.327645   \n",
       "\n",
       "   Lits marchands 2015 (hors PtoP)   P15_RSECOCC   LIBGEO  \n",
       "0                               64     51.696721   Aiglun  \n",
       "1                                0     17.000000   Amirat  \n",
       "2                              172    459.280576    Andon  \n",
       "3                            13876  21090.166718  Antibes  \n",
       "4                                0    125.529661   Ascros  "
      ]
     },
     "execution_count": 10,
     "metadata": {},
     "output_type": "execute_result"
    }
   ],
   "source": [
    "BDD.head()"
   ]
  },
  {
   "cell_type": "markdown",
   "metadata": {},
   "source": [
    "Ensuite, on va changer le nom des variables pour faciliter les manipulations de données qui suivront."
   ]
  },
  {
   "cell_type": "code",
   "execution_count": 11,
   "metadata": {},
   "outputs": [
    {
     "data": {
      "text/plain": [
       "Index(['CODGEO', 'POP18', 'Lits marchands 2018 (hors PtoP)',\n",
       "       'Lits touristiques 2021 inc. PtoP', 'P18_RSECOCC',\n",
       "       'Lits marchands 2015 (hors PtoP)', 'P15_RSECOCC', 'LIBGEO'],\n",
       "      dtype='object')"
      ]
     },
     "execution_count": 11,
     "metadata": {},
     "output_type": "execute_result"
    }
   ],
   "source": [
    "BDD.columns"
   ]
  },
  {
   "cell_type": "code",
   "execution_count": 12,
   "metadata": {},
   "outputs": [],
   "source": [
    "BDD = BDD.rename(columns={\"CODGEO\": \"insee\",\n",
    "                    'LIBGEO': \"nom2\",\n",
    "                    \"POP18\": \"POP18\",\n",
    "                    'Lits marchands 2015 (hors PtoP)': \"marchands15\",\n",
    "                    'Lits marchands 2018 (hors PtoP)': \"marchands18\",\n",
    "                    'Lits touristiques 2021 inc. PtoP': \"touristiques21\",\n",
    "                    \"P15_RSECOCC\": \"P15_RSECOCC\",\n",
    "                    'P18_RSECOCC': 'P18_RSECOCC'})"
   ]
  },
  {
   "cell_type": "code",
   "execution_count": 13,
   "metadata": {},
   "outputs": [
    {
     "data": {
      "text/html": [
       "<div>\n",
       "<style scoped>\n",
       "    .dataframe tbody tr th:only-of-type {\n",
       "        vertical-align: middle;\n",
       "    }\n",
       "\n",
       "    .dataframe tbody tr th {\n",
       "        vertical-align: top;\n",
       "    }\n",
       "\n",
       "    .dataframe thead th {\n",
       "        text-align: right;\n",
       "    }\n",
       "</style>\n",
       "<table border=\"1\" class=\"dataframe\">\n",
       "  <thead>\n",
       "    <tr style=\"text-align: right;\">\n",
       "      <th></th>\n",
       "      <th>insee</th>\n",
       "      <th>POP18</th>\n",
       "      <th>marchands18</th>\n",
       "      <th>touristiques21</th>\n",
       "      <th>P18_RSECOCC</th>\n",
       "      <th>marchands15</th>\n",
       "      <th>P15_RSECOCC</th>\n",
       "      <th>nom2</th>\n",
       "    </tr>\n",
       "  </thead>\n",
       "  <tbody>\n",
       "    <tr>\n",
       "      <th>0</th>\n",
       "      <td>06001</td>\n",
       "      <td>93</td>\n",
       "      <td>0</td>\n",
       "      <td>296.000000</td>\n",
       "      <td>56.000000</td>\n",
       "      <td>64</td>\n",
       "      <td>51.696721</td>\n",
       "      <td>Aiglun</td>\n",
       "    </tr>\n",
       "    <tr>\n",
       "      <th>1</th>\n",
       "      <td>06002</td>\n",
       "      <td>60</td>\n",
       "      <td>0</td>\n",
       "      <td>109.000000</td>\n",
       "      <td>21.000000</td>\n",
       "      <td>0</td>\n",
       "      <td>17.000000</td>\n",
       "      <td>Amirat</td>\n",
       "    </tr>\n",
       "    <tr>\n",
       "      <th>2</th>\n",
       "      <td>06003</td>\n",
       "      <td>655</td>\n",
       "      <td>24</td>\n",
       "      <td>2580.000000</td>\n",
       "      <td>500.000000</td>\n",
       "      <td>172</td>\n",
       "      <td>459.280576</td>\n",
       "      <td>Andon</td>\n",
       "    </tr>\n",
       "    <tr>\n",
       "      <th>3</th>\n",
       "      <td>06004</td>\n",
       "      <td>74047</td>\n",
       "      <td>10517</td>\n",
       "      <td>145083.979374</td>\n",
       "      <td>22825.595875</td>\n",
       "      <td>13876</td>\n",
       "      <td>21090.166718</td>\n",
       "      <td>Antibes</td>\n",
       "    </tr>\n",
       "    <tr>\n",
       "      <th>4</th>\n",
       "      <td>06005</td>\n",
       "      <td>172</td>\n",
       "      <td>0</td>\n",
       "      <td>599.638227</td>\n",
       "      <td>113.327645</td>\n",
       "      <td>0</td>\n",
       "      <td>125.529661</td>\n",
       "      <td>Ascros</td>\n",
       "    </tr>\n",
       "  </tbody>\n",
       "</table>\n",
       "</div>"
      ],
      "text/plain": [
       "   insee  POP18  marchands18  touristiques21   P18_RSECOCC  marchands15  \\\n",
       "0  06001     93            0      296.000000     56.000000           64   \n",
       "1  06002     60            0      109.000000     21.000000            0   \n",
       "2  06003    655           24     2580.000000    500.000000          172   \n",
       "3  06004  74047        10517   145083.979374  22825.595875        13876   \n",
       "4  06005    172            0      599.638227    113.327645            0   \n",
       "\n",
       "    P15_RSECOCC     nom2  \n",
       "0     51.696721   Aiglun  \n",
       "1     17.000000   Amirat  \n",
       "2    459.280576    Andon  \n",
       "3  21090.166718  Antibes  \n",
       "4    125.529661   Ascros  "
      ]
     },
     "execution_count": 13,
     "metadata": {},
     "output_type": "execute_result"
    }
   ],
   "source": [
    "BDD.head()"
   ]
  },
  {
   "cell_type": "markdown",
   "metadata": {},
   "source": [
    "Enfin, on va créer les informations que l'on souhaite représenter pour les cartographies 2 et 3, à savoir le taux de fonction touristique en 2018 et le taux de croissance annuel moyen de l’hébergement marchand entre 2015 et 2018."
   ]
  },
  {
   "cell_type": "markdown",
   "metadata": {},
   "source": [
    "D'après le site *Géoconfluences* **(3)**, le taux de fonction touristique désigne le rapport entre la capacité d’une commune en hébergement touristique (c’est-à-dire le nombre de touristes pouvant être accueillis) et le nombre de résidents permanents.\n",
    "\n",
    "Pour réaliser ce calcul, on a à notre disposition le nombre de lits marchands en 2018 (*marchands18*), le nombre de résidences secondaires et logements occasionnels en 2018 (*P18_RSECOCC*) **(4)** et le nombre d'habitants en 2018 (*POP18*).\n",
    "\n",
    "D'après les documents **(5)** et **(6)**, on considère que l'on a 5 lits par résidence secondaire quelle que soit la taille du logement et que le nombre de lits touristiques est égale au nombre de lits marchands (banalisés) plus le nombre de lits non marchands, c'est-à-dire indisponibles à la location : les résidences secondaires."
   ]
  },
  {
   "cell_type": "code",
   "execution_count": 14,
   "metadata": {},
   "outputs": [],
   "source": [
    "BDD[\"touristiques18\"] = BDD[\"marchands18\"] + 5*BDD[\"P18_RSECOCC\"]\n",
    "BDD[\"taux_fonction_touristique18\"] = round(BDD[\"touristiques18\"]/BDD[\"POP18\"], 2)"
   ]
  },
  {
   "cell_type": "markdown",
   "metadata": {},
   "source": [
    "Le taux de croissance annuel moyen (TCAM) permet de calculer la croissance économique d’une date (*v_year0*) à une autre date (*v_year1*) avec *n* le nombre d'années de la période.\n",
    "\n",
    "Voici la formule du TCAM **(7)**: $$TCAM = (\\sqrt[n]{\\frac{v\\_year1}{v\\_year0}}-1)\\times 100$$"
   ]
  },
  {
   "cell_type": "code",
   "execution_count": 15,
   "metadata": {},
   "outputs": [],
   "source": [
    "BDD[\"TCAM_15_18\"] = round(((BDD[\"marchands18\"]/BDD[\"marchands15\"])**(1/(2018-2015))-1)*100,2)"
   ]
  },
  {
   "cell_type": "code",
   "execution_count": 16,
   "metadata": {},
   "outputs": [
    {
     "data": {
      "text/html": [
       "<div>\n",
       "<style scoped>\n",
       "    .dataframe tbody tr th:only-of-type {\n",
       "        vertical-align: middle;\n",
       "    }\n",
       "\n",
       "    .dataframe tbody tr th {\n",
       "        vertical-align: top;\n",
       "    }\n",
       "\n",
       "    .dataframe thead th {\n",
       "        text-align: right;\n",
       "    }\n",
       "</style>\n",
       "<table border=\"1\" class=\"dataframe\">\n",
       "  <thead>\n",
       "    <tr style=\"text-align: right;\">\n",
       "      <th></th>\n",
       "      <th>insee</th>\n",
       "      <th>POP18</th>\n",
       "      <th>marchands18</th>\n",
       "      <th>touristiques21</th>\n",
       "      <th>P18_RSECOCC</th>\n",
       "      <th>marchands15</th>\n",
       "      <th>P15_RSECOCC</th>\n",
       "      <th>nom2</th>\n",
       "      <th>touristiques18</th>\n",
       "      <th>taux_fonction_touristique18</th>\n",
       "      <th>TCAM_15_18</th>\n",
       "    </tr>\n",
       "  </thead>\n",
       "  <tbody>\n",
       "    <tr>\n",
       "      <th>0</th>\n",
       "      <td>06001</td>\n",
       "      <td>93</td>\n",
       "      <td>0</td>\n",
       "      <td>296.000000</td>\n",
       "      <td>56.000000</td>\n",
       "      <td>64</td>\n",
       "      <td>51.696721</td>\n",
       "      <td>Aiglun</td>\n",
       "      <td>280.000000</td>\n",
       "      <td>3.01</td>\n",
       "      <td>-100.00</td>\n",
       "    </tr>\n",
       "    <tr>\n",
       "      <th>1</th>\n",
       "      <td>06002</td>\n",
       "      <td>60</td>\n",
       "      <td>0</td>\n",
       "      <td>109.000000</td>\n",
       "      <td>21.000000</td>\n",
       "      <td>0</td>\n",
       "      <td>17.000000</td>\n",
       "      <td>Amirat</td>\n",
       "      <td>105.000000</td>\n",
       "      <td>1.75</td>\n",
       "      <td>NaN</td>\n",
       "    </tr>\n",
       "    <tr>\n",
       "      <th>2</th>\n",
       "      <td>06003</td>\n",
       "      <td>655</td>\n",
       "      <td>24</td>\n",
       "      <td>2580.000000</td>\n",
       "      <td>500.000000</td>\n",
       "      <td>172</td>\n",
       "      <td>459.280576</td>\n",
       "      <td>Andon</td>\n",
       "      <td>2524.000000</td>\n",
       "      <td>3.85</td>\n",
       "      <td>-48.13</td>\n",
       "    </tr>\n",
       "    <tr>\n",
       "      <th>3</th>\n",
       "      <td>06004</td>\n",
       "      <td>74047</td>\n",
       "      <td>10517</td>\n",
       "      <td>145083.979374</td>\n",
       "      <td>22825.595875</td>\n",
       "      <td>13876</td>\n",
       "      <td>21090.166718</td>\n",
       "      <td>Antibes</td>\n",
       "      <td>124644.979374</td>\n",
       "      <td>1.68</td>\n",
       "      <td>-8.82</td>\n",
       "    </tr>\n",
       "    <tr>\n",
       "      <th>4</th>\n",
       "      <td>06005</td>\n",
       "      <td>172</td>\n",
       "      <td>0</td>\n",
       "      <td>599.638227</td>\n",
       "      <td>113.327645</td>\n",
       "      <td>0</td>\n",
       "      <td>125.529661</td>\n",
       "      <td>Ascros</td>\n",
       "      <td>566.638227</td>\n",
       "      <td>3.29</td>\n",
       "      <td>NaN</td>\n",
       "    </tr>\n",
       "  </tbody>\n",
       "</table>\n",
       "</div>"
      ],
      "text/plain": [
       "   insee  POP18  marchands18  touristiques21   P18_RSECOCC  marchands15  \\\n",
       "0  06001     93            0      296.000000     56.000000           64   \n",
       "1  06002     60            0      109.000000     21.000000            0   \n",
       "2  06003    655           24     2580.000000    500.000000          172   \n",
       "3  06004  74047        10517   145083.979374  22825.595875        13876   \n",
       "4  06005    172            0      599.638227    113.327645            0   \n",
       "\n",
       "    P15_RSECOCC     nom2  touristiques18  taux_fonction_touristique18  \\\n",
       "0     51.696721   Aiglun      280.000000                         3.01   \n",
       "1     17.000000   Amirat      105.000000                         1.75   \n",
       "2    459.280576    Andon     2524.000000                         3.85   \n",
       "3  21090.166718  Antibes   124644.979374                         1.68   \n",
       "4    125.529661   Ascros      566.638227                         3.29   \n",
       "\n",
       "   TCAM_15_18  \n",
       "0     -100.00  \n",
       "1         NaN  \n",
       "2      -48.13  \n",
       "3       -8.82  \n",
       "4         NaN  "
      ]
     },
     "execution_count": 16,
     "metadata": {},
     "output_type": "execute_result"
    }
   ],
   "source": [
    "BDD.head()"
   ]
  },
  {
   "cell_type": "markdown",
   "metadata": {},
   "source": [
    "On remarque que dans la colonne *TCAM_15_18*, certaines cases ont pour valeurs *NaN* ou *inf*. Cela est dû à cause de la division par zéro.\n",
    "\n",
    "Pour l'analyse cartographique de ce taux, on va considérer que si le nombre de lits marchands de 2015 **ET** le nombre de lits marchands de 2018 sont nuls, alors le TCAM de l'hébergement marchands entre 2015 et 2018 est nul également, il n'y a pas eu de croissance.\n",
    "\n",
    "Cependant si la valeur du TCAM vaut *inf* (cas où seulement le nombre de lits marchands de 2015 est nul), on va considérer la valeur du TCAM comme *NaN* et donc supprimer cette information de la table de données (plus tard dans le point Cartographie n°3) car cela n'a pas de sens de parler d'une croissance économique infinie."
   ]
  },
  {
   "cell_type": "code",
   "execution_count": 17,
   "metadata": {},
   "outputs": [],
   "source": [
    "BDD.loc[((BDD[\"marchands18\"]==0) & (BDD[\"marchands15\"]==0)), \"TCAM_15_18\"] = 0.0"
   ]
  },
  {
   "cell_type": "code",
   "execution_count": 18,
   "metadata": {},
   "outputs": [
    {
     "data": {
      "text/html": [
       "<div>\n",
       "<style scoped>\n",
       "    .dataframe tbody tr th:only-of-type {\n",
       "        vertical-align: middle;\n",
       "    }\n",
       "\n",
       "    .dataframe tbody tr th {\n",
       "        vertical-align: top;\n",
       "    }\n",
       "\n",
       "    .dataframe thead th {\n",
       "        text-align: right;\n",
       "    }\n",
       "</style>\n",
       "<table border=\"1\" class=\"dataframe\">\n",
       "  <thead>\n",
       "    <tr style=\"text-align: right;\">\n",
       "      <th></th>\n",
       "      <th>insee</th>\n",
       "      <th>POP18</th>\n",
       "      <th>marchands18</th>\n",
       "      <th>touristiques21</th>\n",
       "      <th>P18_RSECOCC</th>\n",
       "      <th>marchands15</th>\n",
       "      <th>P15_RSECOCC</th>\n",
       "      <th>nom2</th>\n",
       "      <th>touristiques18</th>\n",
       "      <th>taux_fonction_touristique18</th>\n",
       "      <th>TCAM_15_18</th>\n",
       "    </tr>\n",
       "  </thead>\n",
       "  <tbody>\n",
       "    <tr>\n",
       "      <th>0</th>\n",
       "      <td>06001</td>\n",
       "      <td>93</td>\n",
       "      <td>0</td>\n",
       "      <td>296.000000</td>\n",
       "      <td>56.000000</td>\n",
       "      <td>64</td>\n",
       "      <td>51.696721</td>\n",
       "      <td>Aiglun</td>\n",
       "      <td>280.000000</td>\n",
       "      <td>3.01</td>\n",
       "      <td>-100.00</td>\n",
       "    </tr>\n",
       "    <tr>\n",
       "      <th>1</th>\n",
       "      <td>06002</td>\n",
       "      <td>60</td>\n",
       "      <td>0</td>\n",
       "      <td>109.000000</td>\n",
       "      <td>21.000000</td>\n",
       "      <td>0</td>\n",
       "      <td>17.000000</td>\n",
       "      <td>Amirat</td>\n",
       "      <td>105.000000</td>\n",
       "      <td>1.75</td>\n",
       "      <td>0.00</td>\n",
       "    </tr>\n",
       "    <tr>\n",
       "      <th>2</th>\n",
       "      <td>06003</td>\n",
       "      <td>655</td>\n",
       "      <td>24</td>\n",
       "      <td>2580.000000</td>\n",
       "      <td>500.000000</td>\n",
       "      <td>172</td>\n",
       "      <td>459.280576</td>\n",
       "      <td>Andon</td>\n",
       "      <td>2524.000000</td>\n",
       "      <td>3.85</td>\n",
       "      <td>-48.13</td>\n",
       "    </tr>\n",
       "    <tr>\n",
       "      <th>3</th>\n",
       "      <td>06004</td>\n",
       "      <td>74047</td>\n",
       "      <td>10517</td>\n",
       "      <td>145083.979374</td>\n",
       "      <td>22825.595875</td>\n",
       "      <td>13876</td>\n",
       "      <td>21090.166718</td>\n",
       "      <td>Antibes</td>\n",
       "      <td>124644.979374</td>\n",
       "      <td>1.68</td>\n",
       "      <td>-8.82</td>\n",
       "    </tr>\n",
       "    <tr>\n",
       "      <th>4</th>\n",
       "      <td>06005</td>\n",
       "      <td>172</td>\n",
       "      <td>0</td>\n",
       "      <td>599.638227</td>\n",
       "      <td>113.327645</td>\n",
       "      <td>0</td>\n",
       "      <td>125.529661</td>\n",
       "      <td>Ascros</td>\n",
       "      <td>566.638227</td>\n",
       "      <td>3.29</td>\n",
       "      <td>0.00</td>\n",
       "    </tr>\n",
       "  </tbody>\n",
       "</table>\n",
       "</div>"
      ],
      "text/plain": [
       "   insee  POP18  marchands18  touristiques21   P18_RSECOCC  marchands15  \\\n",
       "0  06001     93            0      296.000000     56.000000           64   \n",
       "1  06002     60            0      109.000000     21.000000            0   \n",
       "2  06003    655           24     2580.000000    500.000000          172   \n",
       "3  06004  74047        10517   145083.979374  22825.595875        13876   \n",
       "4  06005    172            0      599.638227    113.327645            0   \n",
       "\n",
       "    P15_RSECOCC     nom2  touristiques18  taux_fonction_touristique18  \\\n",
       "0     51.696721   Aiglun      280.000000                         3.01   \n",
       "1     17.000000   Amirat      105.000000                         1.75   \n",
       "2    459.280576    Andon     2524.000000                         3.85   \n",
       "3  21090.166718  Antibes   124644.979374                         1.68   \n",
       "4    125.529661   Ascros      566.638227                         3.29   \n",
       "\n",
       "   TCAM_15_18  \n",
       "0     -100.00  \n",
       "1        0.00  \n",
       "2      -48.13  \n",
       "3       -8.82  \n",
       "4        0.00  "
      ]
     },
     "execution_count": 18,
     "metadata": {},
     "output_type": "execute_result"
    }
   ],
   "source": [
    "BDD.head()"
   ]
  },
  {
   "cell_type": "markdown",
   "metadata": {},
   "source": [
    "### Base *data.gouv.fr*\n",
    "\n",
    "On décide de ne garder que les colonnes suivantes :\n",
    "- *insee*\n",
    "- *nom*\n",
    "- *geometry*"
   ]
  },
  {
   "cell_type": "code",
   "execution_count": 19,
   "metadata": {},
   "outputs": [
    {
     "data": {
      "text/plain": [
       "Index(['insee', 'nom', 'wikipedia', 'surf_ha', 'geometry'], dtype='object')"
      ]
     },
     "execution_count": 19,
     "metadata": {},
     "output_type": "execute_result"
    }
   ],
   "source": [
    "communes.columns"
   ]
  },
  {
   "cell_type": "code",
   "execution_count": 20,
   "metadata": {
    "scrolled": true
   },
   "outputs": [
    {
     "data": {
      "text/html": [
       "<div>\n",
       "<style scoped>\n",
       "    .dataframe tbody tr th:only-of-type {\n",
       "        vertical-align: middle;\n",
       "    }\n",
       "\n",
       "    .dataframe tbody tr th {\n",
       "        vertical-align: top;\n",
       "    }\n",
       "\n",
       "    .dataframe thead th {\n",
       "        text-align: right;\n",
       "    }\n",
       "</style>\n",
       "<table border=\"1\" class=\"dataframe\">\n",
       "  <thead>\n",
       "    <tr style=\"text-align: right;\">\n",
       "      <th></th>\n",
       "      <th>insee</th>\n",
       "      <th>nom</th>\n",
       "      <th>geometry</th>\n",
       "    </tr>\n",
       "  </thead>\n",
       "  <tbody>\n",
       "    <tr>\n",
       "      <th>0</th>\n",
       "      <td>30225</td>\n",
       "      <td>Sabran</td>\n",
       "      <td>POLYGON ((4.49703 44.14344, 4.49727 44.14398, ...</td>\n",
       "    </tr>\n",
       "    <tr>\n",
       "      <th>1</th>\n",
       "      <td>26334</td>\n",
       "      <td>Salettes</td>\n",
       "      <td>POLYGON ((4.94213 44.57481, 4.94283 44.57501, ...</td>\n",
       "    </tr>\n",
       "    <tr>\n",
       "      <th>2</th>\n",
       "      <td>04200</td>\n",
       "      <td>Salignac</td>\n",
       "      <td>POLYGON ((5.95337 44.15613, 5.95341 44.15649, ...</td>\n",
       "    </tr>\n",
       "    <tr>\n",
       "      <th>3</th>\n",
       "      <td>04179</td>\n",
       "      <td>Saint-Geniez</td>\n",
       "      <td>POLYGON ((5.98593 44.23280, 5.98654 44.23292, ...</td>\n",
       "    </tr>\n",
       "    <tr>\n",
       "      <th>4</th>\n",
       "      <td>05162</td>\n",
       "      <td>La Saulce</td>\n",
       "      <td>POLYGON ((5.98920 44.41892, 5.98921 44.41894, ...</td>\n",
       "    </tr>\n",
       "  </tbody>\n",
       "</table>\n",
       "</div>"
      ],
      "text/plain": [
       "   insee           nom                                           geometry\n",
       "0  30225        Sabran  POLYGON ((4.49703 44.14344, 4.49727 44.14398, ...\n",
       "1  26334      Salettes  POLYGON ((4.94213 44.57481, 4.94283 44.57501, ...\n",
       "2  04200      Salignac  POLYGON ((5.95337 44.15613, 5.95341 44.15649, ...\n",
       "3  04179  Saint-Geniez  POLYGON ((5.98593 44.23280, 5.98654 44.23292, ...\n",
       "4  05162     La Saulce  POLYGON ((5.98920 44.41892, 5.98921 44.41894, ..."
      ]
     },
     "execution_count": 20,
     "metadata": {},
     "output_type": "execute_result"
    }
   ],
   "source": [
    "communes = communes.drop(columns=['wikipedia', 'surf_ha'])\n",
    "communes.head()"
   ]
  },
  {
   "cell_type": "markdown",
   "metadata": {},
   "source": [
    "# Cartographie n°1 : Nombre d’habitants en 2018"
   ]
  },
  {
   "cell_type": "markdown",
   "metadata": {},
   "source": [
    "On décide de créer un nouveau dataframe, *df1*, en fusionnant les dataframes *BDD* (où on ne garde que les colonnes *insee* et *POP18*) et *communes*."
   ]
  },
  {
   "cell_type": "code",
   "execution_count": 21,
   "metadata": {},
   "outputs": [],
   "source": [
    "df1 = BDD.drop(columns = ['marchands18', 'touristiques21', 'P18_RSECOCC',\n",
    "                          'marchands15', 'P15_RSECOCC', 'nom2', 'touristiques18',\n",
    "                          'taux_fonction_touristique18', 'TCAM_15_18'])\n",
    "\n",
    "\n",
    "df1 = gpd.GeoDataFrame(df1).merge(communes, on='insee')"
   ]
  },
  {
   "cell_type": "markdown",
   "metadata": {},
   "source": [
    "En rangeant la colonne *POP18* par ordre croissant, on remarque que la commune avec le plus d'habitants est **Argol** avec 2161000 habitants. En faisant des recherches **(8)**, on trouve que cette commune n'avait même pas 1000 habitants recensés en 2019. On suppose donc qu'il y a une erreur dans le jeu de données et on décide donc de supprimer cette ligne du jeu de données."
   ]
  },
  {
   "cell_type": "code",
   "execution_count": 22,
   "metadata": {},
   "outputs": [
    {
     "data": {
      "text/html": [
       "<div>\n",
       "<style scoped>\n",
       "    .dataframe tbody tr th:only-of-type {\n",
       "        vertical-align: middle;\n",
       "    }\n",
       "\n",
       "    .dataframe tbody tr th {\n",
       "        vertical-align: top;\n",
       "    }\n",
       "\n",
       "    .dataframe thead th {\n",
       "        text-align: right;\n",
       "    }\n",
       "</style>\n",
       "<table border=\"1\" class=\"dataframe\">\n",
       "  <thead>\n",
       "    <tr style=\"text-align: right;\">\n",
       "      <th></th>\n",
       "      <th>insee</th>\n",
       "      <th>POP18</th>\n",
       "      <th>nom</th>\n",
       "      <th>geometry</th>\n",
       "    </tr>\n",
       "  </thead>\n",
       "  <tbody>\n",
       "    <tr>\n",
       "      <th>1312</th>\n",
       "      <td>33063</td>\n",
       "      <td>260352</td>\n",
       "      <td>Bordeaux</td>\n",
       "      <td>POLYGON ((-0.63870 44.85916, -0.63827 44.85994...</td>\n",
       "    </tr>\n",
       "    <tr>\n",
       "      <th>1957</th>\n",
       "      <td>34172</td>\n",
       "      <td>293410</td>\n",
       "      <td>Montpellier</td>\n",
       "      <td>POLYGON ((3.80706 43.63465, 3.80707 43.63469, ...</td>\n",
       "    </tr>\n",
       "    <tr>\n",
       "      <th>2559</th>\n",
       "      <td>44109</td>\n",
       "      <td>319284</td>\n",
       "      <td>Nantes</td>\n",
       "      <td>POLYGON ((-1.64181 47.19116, -1.64122 47.19121...</td>\n",
       "    </tr>\n",
       "    <tr>\n",
       "      <th>87</th>\n",
       "      <td>06088</td>\n",
       "      <td>343889</td>\n",
       "      <td>Nice</td>\n",
       "      <td>POLYGON ((7.18195 43.73746, 7.18195 43.73764, ...</td>\n",
       "    </tr>\n",
       "    <tr>\n",
       "      <th>974</th>\n",
       "      <td>29001</td>\n",
       "      <td>2161000</td>\n",
       "      <td>Argol</td>\n",
       "      <td>MULTIPOLYGON (((-4.36723 48.27782, -4.36650 48...</td>\n",
       "    </tr>\n",
       "  </tbody>\n",
       "</table>\n",
       "</div>"
      ],
      "text/plain": [
       "      insee    POP18          nom  \\\n",
       "1312  33063   260352     Bordeaux   \n",
       "1957  34172   293410  Montpellier   \n",
       "2559  44109   319284       Nantes   \n",
       "87    06088   343889         Nice   \n",
       "974   29001  2161000        Argol   \n",
       "\n",
       "                                               geometry  \n",
       "1312  POLYGON ((-0.63870 44.85916, -0.63827 44.85994...  \n",
       "1957  POLYGON ((3.80706 43.63465, 3.80707 43.63469, ...  \n",
       "2559  POLYGON ((-1.64181 47.19116, -1.64122 47.19121...  \n",
       "87    POLYGON ((7.18195 43.73746, 7.18195 43.73764, ...  \n",
       "974   MULTIPOLYGON (((-4.36723 48.27782, -4.36650 48...  "
      ]
     },
     "execution_count": 22,
     "metadata": {},
     "output_type": "execute_result"
    }
   ],
   "source": [
    "df1.sort_values(\"POP18\").tail()"
   ]
  },
  {
   "cell_type": "code",
   "execution_count": 23,
   "metadata": {},
   "outputs": [
    {
     "data": {
      "text/html": [
       "<div>\n",
       "<style scoped>\n",
       "    .dataframe tbody tr th:only-of-type {\n",
       "        vertical-align: middle;\n",
       "    }\n",
       "\n",
       "    .dataframe tbody tr th {\n",
       "        vertical-align: top;\n",
       "    }\n",
       "\n",
       "    .dataframe thead th {\n",
       "        text-align: right;\n",
       "    }\n",
       "</style>\n",
       "<table border=\"1\" class=\"dataframe\">\n",
       "  <thead>\n",
       "    <tr style=\"text-align: right;\">\n",
       "      <th></th>\n",
       "      <th>insee</th>\n",
       "      <th>POP18</th>\n",
       "      <th>nom</th>\n",
       "      <th>geometry</th>\n",
       "    </tr>\n",
       "  </thead>\n",
       "  <tbody>\n",
       "  </tbody>\n",
       "</table>\n",
       "</div>"
      ],
      "text/plain": [
       "Empty GeoDataFrame\n",
       "Columns: [insee, POP18, nom, geometry]\n",
       "Index: []"
      ]
     },
     "execution_count": 23,
     "metadata": {},
     "output_type": "execute_result"
    }
   ],
   "source": [
    "df1 = df1.drop(df1[df1.insee==\"29001\"].index)\n",
    "\n",
    "df1[df1.insee==\"29001\"] # Vérification si la commune Argol a bien été supprimée"
   ]
  },
  {
   "cell_type": "markdown",
   "metadata": {},
   "source": [
    "Pour lire la carte plus facilement, on décide d'ajouter de la couleur en fonction du nombre d'habitants (palette nuancée du jaune au rouge où le jaune représente le moins d'habitants et le rouge le plus d'habitants).\n",
    "\n",
    "Pour réaliser cela, on crée une nouvelle colonne, *bins_POP18*, qui segmente et trier les valeurs de données de la colonne *POP18* dans des \"bins\" "
   ]
  },
  {
   "cell_type": "code",
   "execution_count": 24,
   "metadata": {},
   "outputs": [],
   "source": [
    "# Création colonne bins_POP18\n",
    "bins_POP18 = pd.IntervalIndex.from_tuples([(0, 250), (250, 500), (500, 750), (750, 1000), (1000, 5000),\n",
    "                                           (5000, 10000), (10000, 50000), (50000, 100000), (100000, float(\"inf\"))])\n",
    "                                        # Ici, les valeurs des intervalles sont choisies arbitrairement\n",
    "\n",
    "bins_labels_mapping_POP18 = dict(zip(bins_POP18, range(1, len(bins_POP18) + 1)))\n",
    "\n",
    "bins_POP18 = pd.cut(df1['POP18'], bins=bins_POP18, retbins=False).map(bins_labels_mapping_POP18).astype(float)\n",
    "\n",
    "df1['bins_POP18'] = bins_POP18\n",
    "\n",
    "# Création palette\n",
    "palette_POP18 = {\n",
    "    'name': 'palette_POP18',\n",
    "    'type': 'custom',\n",
    "    'category': 'Custom',\n",
    "    'colors': ['#FFFFCC', '#FFEDA0', '#FED976', '#FEB24C', '#FD8D3C', '#FC4E2A', '#E31A1C', '#BD0026', '#800026']}"
   ]
  },
  {
   "cell_type": "code",
   "execution_count": 25,
   "metadata": {},
   "outputs": [
    {
     "data": {
      "text/html": [
       "<div>\n",
       "<style scoped>\n",
       "    .dataframe tbody tr th:only-of-type {\n",
       "        vertical-align: middle;\n",
       "    }\n",
       "\n",
       "    .dataframe tbody tr th {\n",
       "        vertical-align: top;\n",
       "    }\n",
       "\n",
       "    .dataframe thead th {\n",
       "        text-align: right;\n",
       "    }\n",
       "</style>\n",
       "<table border=\"1\" class=\"dataframe\">\n",
       "  <thead>\n",
       "    <tr style=\"text-align: right;\">\n",
       "      <th></th>\n",
       "      <th>insee</th>\n",
       "      <th>POP18</th>\n",
       "      <th>nom</th>\n",
       "      <th>geometry</th>\n",
       "      <th>bins_POP18</th>\n",
       "    </tr>\n",
       "  </thead>\n",
       "  <tbody>\n",
       "    <tr>\n",
       "      <th>0</th>\n",
       "      <td>06001</td>\n",
       "      <td>93</td>\n",
       "      <td>Aiglun</td>\n",
       "      <td>POLYGON ((6.90718 43.86292, 6.90718 43.86315, ...</td>\n",
       "      <td>1.0</td>\n",
       "    </tr>\n",
       "    <tr>\n",
       "      <th>1</th>\n",
       "      <td>06002</td>\n",
       "      <td>60</td>\n",
       "      <td>Amirat</td>\n",
       "      <td>POLYGON ((6.78127 43.88345, 6.78129 43.88348, ...</td>\n",
       "      <td>1.0</td>\n",
       "    </tr>\n",
       "    <tr>\n",
       "      <th>2</th>\n",
       "      <td>06003</td>\n",
       "      <td>655</td>\n",
       "      <td>Andon</td>\n",
       "      <td>POLYGON ((6.76869 43.80453, 6.76870 43.80460, ...</td>\n",
       "      <td>3.0</td>\n",
       "    </tr>\n",
       "    <tr>\n",
       "      <th>3</th>\n",
       "      <td>06004</td>\n",
       "      <td>74047</td>\n",
       "      <td>Antibes</td>\n",
       "      <td>MULTIPOLYGON (((7.06442 43.60335, 7.06539 43.6...</td>\n",
       "      <td>8.0</td>\n",
       "    </tr>\n",
       "    <tr>\n",
       "      <th>4</th>\n",
       "      <td>06005</td>\n",
       "      <td>172</td>\n",
       "      <td>Ascros</td>\n",
       "      <td>POLYGON ((6.97236 43.92248, 6.97329 43.92298, ...</td>\n",
       "      <td>1.0</td>\n",
       "    </tr>\n",
       "  </tbody>\n",
       "</table>\n",
       "</div>"
      ],
      "text/plain": [
       "   insee  POP18      nom                                           geometry  \\\n",
       "0  06001     93   Aiglun  POLYGON ((6.90718 43.86292, 6.90718 43.86315, ...   \n",
       "1  06002     60   Amirat  POLYGON ((6.78127 43.88345, 6.78129 43.88348, ...   \n",
       "2  06003    655    Andon  POLYGON ((6.76869 43.80453, 6.76870 43.80460, ...   \n",
       "3  06004  74047  Antibes  MULTIPOLYGON (((7.06442 43.60335, 7.06539 43.6...   \n",
       "4  06005    172   Ascros  POLYGON ((6.97236 43.92248, 6.97329 43.92298, ...   \n",
       "\n",
       "   bins_POP18  \n",
       "0         1.0  \n",
       "1         1.0  \n",
       "2         3.0  \n",
       "3         8.0  \n",
       "4         1.0  "
      ]
     },
     "execution_count": 25,
     "metadata": {},
     "output_type": "execute_result"
    }
   ],
   "source": [
    "df1.head()"
   ]
  },
  {
   "cell_type": "markdown",
   "metadata": {},
   "source": [
    "On crée ensuite l'objet cartographie et on ajoute les données à cet objet"
   ]
  },
  {
   "cell_type": "code",
   "execution_count": 26,
   "metadata": {},
   "outputs": [
    {
     "name": "stdout",
     "output_type": "stream",
     "text": [
      "User Guide: https://docs.kepler.gl/docs/keplergl-jupyter\n"
     ]
    }
   ],
   "source": [
    "carto = KeplerGl()\n",
    "carto.add_data(data=df1.to_json(), name = \"Nombre d'habitants en 2018\")"
   ]
  },
  {
   "cell_type": "markdown",
   "metadata": {},
   "source": [
    "L'objet *carto* doit afficher une carte intéractive.\n",
    "\n",
    "**A savoir** : Après avoir lancé le chunk suivant, on le met en commentaire et on relance le chunk pour éviter de surcharger le notebook."
   ]
  },
  {
   "cell_type": "code",
   "execution_count": 31,
   "metadata": {
    "scrolled": true
   },
   "outputs": [],
   "source": [
    "# carto"
   ]
  },
  {
   "cell_type": "markdown",
   "metadata": {},
   "source": [
    "On regarde la configuration par défaut de la cartographie.\n",
    "\n",
    "\n",
    "**A savoir** : Si le résultat du chunk suivant est un dictionnaire vide, relancer le chunk précédent jusqu'à ce que le dictionnaire ne soit plus vide."
   ]
  },
  {
   "cell_type": "code",
   "execution_count": 28,
   "metadata": {
    "scrolled": true
   },
   "outputs": [
    {
     "data": {
      "text/plain": [
       "{'version': 'v1',\n",
       " 'config': {'visState': {'filters': [],\n",
       "   'layers': [{'id': '59lh7ho',\n",
       "     'type': 'geojson',\n",
       "     'config': {'dataId': \"Nombre d'habitants en 2018\",\n",
       "      'label': \"Nombre d'habitants en 2018\",\n",
       "      'color': [18, 147, 154],\n",
       "      'highlightColor': [252, 242, 26, 255],\n",
       "      'columns': {'geojson': '_geojson'},\n",
       "      'isVisible': True,\n",
       "      'visConfig': {'opacity': 0.8,\n",
       "       'strokeOpacity': 0.8,\n",
       "       'thickness': 0.5,\n",
       "       'strokeColor': [221, 178, 124],\n",
       "       'colorRange': {'name': 'Global Warming',\n",
       "        'type': 'sequential',\n",
       "        'category': 'Uber',\n",
       "        'colors': ['#5A1846',\n",
       "         '#900C3F',\n",
       "         '#C70039',\n",
       "         '#E3611C',\n",
       "         '#F1920E',\n",
       "         '#FFC300']},\n",
       "       'strokeColorRange': {'name': 'Global Warming',\n",
       "        'type': 'sequential',\n",
       "        'category': 'Uber',\n",
       "        'colors': ['#5A1846',\n",
       "         '#900C3F',\n",
       "         '#C70039',\n",
       "         '#E3611C',\n",
       "         '#F1920E',\n",
       "         '#FFC300']},\n",
       "       'radius': 10,\n",
       "       'sizeRange': [0, 10],\n",
       "       'radiusRange': [0, 50],\n",
       "       'heightRange': [0, 500],\n",
       "       'elevationScale': 5,\n",
       "       'enableElevationZoomFactor': True,\n",
       "       'stroked': True,\n",
       "       'filled': True,\n",
       "       'enable3d': False,\n",
       "       'wireframe': False},\n",
       "      'hidden': False,\n",
       "      'textLabel': [{'field': None,\n",
       "        'color': [255, 255, 255],\n",
       "        'size': 18,\n",
       "        'offset': [0, 0],\n",
       "        'anchor': 'start',\n",
       "        'alignment': 'center'}]},\n",
       "     'visualChannels': {'colorField': None,\n",
       "      'colorScale': 'quantile',\n",
       "      'strokeColorField': None,\n",
       "      'strokeColorScale': 'quantile',\n",
       "      'sizeField': None,\n",
       "      'sizeScale': 'linear',\n",
       "      'heightField': None,\n",
       "      'heightScale': 'linear',\n",
       "      'radiusField': None,\n",
       "      'radiusScale': 'linear'}}],\n",
       "   'interactionConfig': {'tooltip': {'fieldsToShow': {\"Nombre d'habitants en 2018\": [{'name': 'POP18',\n",
       "        'format': None},\n",
       "       {'name': 'bins_POP18', 'format': None},\n",
       "       {'name': 'insee', 'format': None},\n",
       "       {'name': 'nom', 'format': None}]},\n",
       "     'compareMode': False,\n",
       "     'compareType': 'absolute',\n",
       "     'enabled': True},\n",
       "    'brush': {'size': 0.5, 'enabled': False},\n",
       "    'geocoder': {'enabled': False},\n",
       "    'coordinate': {'enabled': False}},\n",
       "   'layerBlending': 'normal',\n",
       "   'splitMaps': [],\n",
       "   'animationConfig': {'currentTime': None, 'speed': 1}},\n",
       "  'mapState': {'bearing': 0,\n",
       "   'dragRotate': False,\n",
       "   'latitude': 45.94532980012553,\n",
       "   'longitude': 1.2872223499999995,\n",
       "   'pitch': 0,\n",
       "   'zoom': 5,\n",
       "   'isSplit': False},\n",
       "  'mapStyle': {'styleType': 'dark',\n",
       "   'topLayerGroups': {},\n",
       "   'visibleLayerGroups': {'label': True,\n",
       "    'road': True,\n",
       "    'border': False,\n",
       "    'building': True,\n",
       "    'water': True,\n",
       "    'land': True,\n",
       "    '3d building': False},\n",
       "   'threeDBuildingColor': [9.665468314072013,\n",
       "    17.18305478057247,\n",
       "    31.1442867897876],\n",
       "   'mapStyles': {}}}}"
      ]
     },
     "execution_count": 28,
     "metadata": {},
     "output_type": "execute_result"
    }
   ],
   "source": [
    "carto.config"
   ]
  },
  {
   "cell_type": "markdown",
   "metadata": {},
   "source": [
    "On change la configuration par défaut de la carte pour avoir une visualisation parlante."
   ]
  },
  {
   "cell_type": "code",
   "execution_count": 29,
   "metadata": {},
   "outputs": [],
   "source": [
    "tmp_config = carto.config\n",
    "\n",
    "layers = tmp_config['config']['visState']['layers']\n",
    "layer_to_update = [layer for layer in layers if layer['config']['dataId'] == \"Nombre d'habitants en 2018\"]\n",
    "layer_to_update = layer_to_update[0]\n",
    "\n",
    "# Pour signifier que le remplissage des communes se fait en fonction de la colonne bins_POP18\n",
    "layer_to_update[\"visualChannels\"].update({\"colorField\": {\"name\": \"bins_POP18\", \"type\": \"integer\"},\n",
    "                                          \"colorScale\": \"quantize\",})\n",
    "\n",
    "# Pour changer la palette de couleurs remplissant les communes\n",
    "layer_to_update[\"config\"][\"visConfig\"][\"colorRange\"].update(palette_POP18)\n",
    "\n",
    "# Pour changer l'épaisseur des frontières\n",
    "layer_to_update[\"config\"][\"visConfig\"][\"thickness\"] = 0.2\n",
    "\n",
    "# Pour changer la couleur des frontières ([0, 0, 0] réprésente la couleur noire en RGB)\n",
    "layer_to_update[\"config\"][\"visConfig\"][\"strokeColor\"] = [0, 0, 0]\n",
    "\n",
    "carto.config = tmp_config"
   ]
  },
  {
   "cell_type": "markdown",
   "metadata": {},
   "source": [
    "On enregistre la cartographie au format HTML."
   ]
  },
  {
   "cell_type": "code",
   "execution_count": 30,
   "metadata": {},
   "outputs": [
    {
     "name": "stdout",
     "output_type": "stream",
     "text": [
      "Map saved to ./Nombre d’habitants en 2018.html!\n"
     ]
    }
   ],
   "source": [
    "carto.save_to_html(file_name='./Nombre d’habitants en 2018.html')"
   ]
  },
  {
   "cell_type": "markdown",
   "metadata": {},
   "source": [
    "# Cartographie n°2 : Taux de fonction touristique du Finistère de 2018"
   ]
  },
  {
   "cell_type": "markdown",
   "metadata": {},
   "source": [
    "On décide de créer un nouveau dataframe, *df2*, en fusionnant les dataframes *BDD* (où on ne garde que les colonnes *insee* et *taux_fonction_touristique18*) et *communes*. Comme on s'intéresse seulement au Finistère, on ne garde que les codes INSEE commençant par 29. "
   ]
  },
  {
   "cell_type": "code",
   "execution_count": 32,
   "metadata": {},
   "outputs": [],
   "source": [
    "df2 = BDD.drop(columns = ['marchands18', 'touristiques21', 'P18_RSECOCC',\n",
    "                          'marchands15', 'P15_RSECOCC', 'nom2', 'touristiques18',\n",
    "                          'POP18', 'TCAM_15_18'])\n",
    "\n",
    "df2 = df2[df2.insee.str.startswith('29')]\n",
    "\n",
    "df2 = gpd.GeoDataFrame(df2).merge(communes, on='insee')"
   ]
  },
  {
   "cell_type": "markdown",
   "metadata": {},
   "source": [
    "On rencontre le même problème que dans la section *Cartographie n°1* car **Argol** est une commune du Finistère. On décide donc de supprimer cette ligne du jeu de données."
   ]
  },
  {
   "cell_type": "code",
   "execution_count": 33,
   "metadata": {},
   "outputs": [
    {
     "data": {
      "text/html": [
       "<div>\n",
       "<style scoped>\n",
       "    .dataframe tbody tr th:only-of-type {\n",
       "        vertical-align: middle;\n",
       "    }\n",
       "\n",
       "    .dataframe tbody tr th {\n",
       "        vertical-align: top;\n",
       "    }\n",
       "\n",
       "    .dataframe thead th {\n",
       "        text-align: right;\n",
       "    }\n",
       "</style>\n",
       "<table border=\"1\" class=\"dataframe\">\n",
       "  <thead>\n",
       "    <tr style=\"text-align: right;\">\n",
       "      <th></th>\n",
       "      <th>insee</th>\n",
       "      <th>taux_fonction_touristique18</th>\n",
       "      <th>nom</th>\n",
       "      <th>geometry</th>\n",
       "    </tr>\n",
       "  </thead>\n",
       "  <tbody>\n",
       "  </tbody>\n",
       "</table>\n",
       "</div>"
      ],
      "text/plain": [
       "Empty GeoDataFrame\n",
       "Columns: [insee, taux_fonction_touristique18, nom, geometry]\n",
       "Index: []"
      ]
     },
     "execution_count": 33,
     "metadata": {},
     "output_type": "execute_result"
    }
   ],
   "source": [
    "df2 = df2.drop(df2[df2.insee==\"29001\"].index)\n",
    "\n",
    "df2[df2.insee==\"29001\"] # Vérification si la commune Argol a bien été supprimée"
   ]
  },
  {
   "cell_type": "markdown",
   "metadata": {},
   "source": [
    "Pour lire la carte plus facilement, on décide d'ajouter de la couleur en fonction du taux de fonction touristique (palette nuancée du vert clair au vert foncé où le vert clair représente un taux faible et le vert foncé un taux élevé).\n",
    "\n",
    "Pour réaliser cela, on crée une nouvelle colonne, *bins_TFT18*, qui segmente et trier les valeurs de données de la colonne *taux_fonction_touristique18* dans des \"bins\".\n",
    "\n",
    "A l'aide du document **(9)**, on prend la décision de répartir en 5 classes les communes du Finistère selon leur taux de fonction touristique.\n",
    "\n",
    "Deux classes de communes dites « à faible intensité touristique » :\n",
    "- classe 1 : taux de fonction touristique inférieur à 50 lits pour 100 habitants ;  \n",
    "- classe 2 : taux de fonction touristique compris entre 50 et 100 lits pour 100 habitants.\n",
    "\n",
    "Trois classes de communes, dites « à forte intensité touristique » (susceptibles d’au moins doubler leur\n",
    "population) :\n",
    "- classe 3 : taux de fonction touristique compris entre 100 et 200 lits pour 100 habitants ;  \n",
    "- classe 4 : taux de fonction touristique compris entre 200 et 1 000 lits pour 100 habitants ;  \n",
    "- classe 5 : taux de fonction touristique supérieur ou égal à 1 000 lits pour 100 habitants.\n",
    "\n",
    "L'unité de la colonne *taux_fonction_touristique18* est actuellement en lits par habitant."
   ]
  },
  {
   "cell_type": "code",
   "execution_count": 34,
   "metadata": {},
   "outputs": [],
   "source": [
    "# Création colonne bins_TFT18\n",
    "bins_TFT18 = pd.IntervalIndex.from_tuples([(0, 0.5), (0.5, 1.0), (1.0, 2.0), (2.0, 10.0), (10.0, float(\"inf\"))])\n",
    "                                          # Ici, les valeurs des intervalles sont choisies d'après le document (9)\n",
    "\n",
    "bins_labels_mapping_TFT18 = dict(zip(bins_TFT18, range(1, len(bins_TFT18) + 1)))\n",
    "\n",
    "bins_TFT18 = pd.cut(df2['taux_fonction_touristique18'],\n",
    "                    bins=bins_TFT18, retbins=False).map(bins_labels_mapping_TFT18).astype(float)\n",
    "\n",
    "df2['bins_TFT18'] = bins_TFT18\n",
    "\n",
    "# Création palette\n",
    "palette_TFT18 = {\n",
    "    'name': 'palette_TFT18',\n",
    "    'type': 'custom',\n",
    "    'category': 'Custom',\n",
    "    'colors': ['#addd8e', '#78c679', '#41ab5d', '#238443', '#006837']}"
   ]
  },
  {
   "cell_type": "code",
   "execution_count": 35,
   "metadata": {},
   "outputs": [
    {
     "data": {
      "text/html": [
       "<div>\n",
       "<style scoped>\n",
       "    .dataframe tbody tr th:only-of-type {\n",
       "        vertical-align: middle;\n",
       "    }\n",
       "\n",
       "    .dataframe tbody tr th {\n",
       "        vertical-align: top;\n",
       "    }\n",
       "\n",
       "    .dataframe thead th {\n",
       "        text-align: right;\n",
       "    }\n",
       "</style>\n",
       "<table border=\"1\" class=\"dataframe\">\n",
       "  <thead>\n",
       "    <tr style=\"text-align: right;\">\n",
       "      <th></th>\n",
       "      <th>insee</th>\n",
       "      <th>taux_fonction_touristique18</th>\n",
       "      <th>nom</th>\n",
       "      <th>geometry</th>\n",
       "      <th>bins_TFT18</th>\n",
       "    </tr>\n",
       "  </thead>\n",
       "  <tbody>\n",
       "    <tr>\n",
       "      <th>1</th>\n",
       "      <td>29002</td>\n",
       "      <td>0.13</td>\n",
       "      <td>Arzano</td>\n",
       "      <td>POLYGON ((-3.50348 47.89572, -3.50334 47.89597...</td>\n",
       "      <td>1.0</td>\n",
       "    </tr>\n",
       "    <tr>\n",
       "      <th>2</th>\n",
       "      <td>29003</td>\n",
       "      <td>2.61</td>\n",
       "      <td>Audierne</td>\n",
       "      <td>POLYGON ((-4.60262 48.01621, -4.60257 48.01686...</td>\n",
       "      <td>4.0</td>\n",
       "    </tr>\n",
       "    <tr>\n",
       "      <th>3</th>\n",
       "      <td>29004</td>\n",
       "      <td>0.16</td>\n",
       "      <td>Bannalec</td>\n",
       "      <td>POLYGON ((-3.76427 47.92862, -3.76424 47.92912...</td>\n",
       "      <td>1.0</td>\n",
       "    </tr>\n",
       "    <tr>\n",
       "      <th>4</th>\n",
       "      <td>29005</td>\n",
       "      <td>0.31</td>\n",
       "      <td>Baye</td>\n",
       "      <td>POLYGON ((-3.63388 47.84362, -3.63286 47.84428...</td>\n",
       "      <td>1.0</td>\n",
       "    </tr>\n",
       "    <tr>\n",
       "      <th>5</th>\n",
       "      <td>29006</td>\n",
       "      <td>5.38</td>\n",
       "      <td>Bénodet</td>\n",
       "      <td>POLYGON ((-4.11753 47.87927, -4.11749 47.87936...</td>\n",
       "      <td>4.0</td>\n",
       "    </tr>\n",
       "  </tbody>\n",
       "</table>\n",
       "</div>"
      ],
      "text/plain": [
       "   insee  taux_fonction_touristique18       nom  \\\n",
       "1  29002                         0.13    Arzano   \n",
       "2  29003                         2.61  Audierne   \n",
       "3  29004                         0.16  Bannalec   \n",
       "4  29005                         0.31      Baye   \n",
       "5  29006                         5.38   Bénodet   \n",
       "\n",
       "                                            geometry  bins_TFT18  \n",
       "1  POLYGON ((-3.50348 47.89572, -3.50334 47.89597...         1.0  \n",
       "2  POLYGON ((-4.60262 48.01621, -4.60257 48.01686...         4.0  \n",
       "3  POLYGON ((-3.76427 47.92862, -3.76424 47.92912...         1.0  \n",
       "4  POLYGON ((-3.63388 47.84362, -3.63286 47.84428...         1.0  \n",
       "5  POLYGON ((-4.11753 47.87927, -4.11749 47.87936...         4.0  "
      ]
     },
     "execution_count": 35,
     "metadata": {},
     "output_type": "execute_result"
    }
   ],
   "source": [
    "df2.head()"
   ]
  },
  {
   "cell_type": "markdown",
   "metadata": {},
   "source": [
    "On crée ensuite l'objet cartographie et on ajoute les données à cet objet"
   ]
  },
  {
   "cell_type": "code",
   "execution_count": 36,
   "metadata": {},
   "outputs": [
    {
     "name": "stdout",
     "output_type": "stream",
     "text": [
      "User Guide: https://docs.kepler.gl/docs/keplergl-jupyter\n"
     ]
    }
   ],
   "source": [
    "carto = KeplerGl()\n",
    "carto.add_data(data=df2.to_json(), name=\"Taux de fonction touristique du Finistère de 2018\")"
   ]
  },
  {
   "cell_type": "markdown",
   "metadata": {},
   "source": [
    "L'objet *carto* doit afficher une carte intéractive.\n",
    "\n",
    "**A savoir** : Après avoir lancé le chunk suivant, on le met en commentaire et on relance le chunk pour éviter de surcharger le notebook."
   ]
  },
  {
   "cell_type": "code",
   "execution_count": 41,
   "metadata": {
    "scrolled": true
   },
   "outputs": [],
   "source": [
    "# carto"
   ]
  },
  {
   "cell_type": "markdown",
   "metadata": {},
   "source": [
    "On regarde la configuration par défaut de la cartographie.\n",
    "\n",
    "\n",
    "**A savoir** : Si le résultat du chunk suivant est un dictionnaire vide, relancer le chunk précédent jusqu'à ce que le dictionnaire ne soit plus vide."
   ]
  },
  {
   "cell_type": "code",
   "execution_count": 38,
   "metadata": {
    "scrolled": true
   },
   "outputs": [
    {
     "data": {
      "text/plain": [
       "{'version': 'v1',\n",
       " 'config': {'visState': {'filters': [],\n",
       "   'layers': [{'id': '6dp5rw',\n",
       "     'type': 'geojson',\n",
       "     'config': {'dataId': 'Taux de fonction touristique du Finistère de 2018',\n",
       "      'label': 'Taux de fonction touristique du Finistère de 2018',\n",
       "      'color': [136, 87, 44],\n",
       "      'highlightColor': [252, 242, 26, 255],\n",
       "      'columns': {'geojson': '_geojson'},\n",
       "      'isVisible': True,\n",
       "      'visConfig': {'opacity': 0.8,\n",
       "       'strokeOpacity': 0.8,\n",
       "       'thickness': 0.5,\n",
       "       'strokeColor': [255, 153, 31],\n",
       "       'colorRange': {'name': 'Global Warming',\n",
       "        'type': 'sequential',\n",
       "        'category': 'Uber',\n",
       "        'colors': ['#5A1846',\n",
       "         '#900C3F',\n",
       "         '#C70039',\n",
       "         '#E3611C',\n",
       "         '#F1920E',\n",
       "         '#FFC300']},\n",
       "       'strokeColorRange': {'name': 'Global Warming',\n",
       "        'type': 'sequential',\n",
       "        'category': 'Uber',\n",
       "        'colors': ['#5A1846',\n",
       "         '#900C3F',\n",
       "         '#C70039',\n",
       "         '#E3611C',\n",
       "         '#F1920E',\n",
       "         '#FFC300']},\n",
       "       'radius': 10,\n",
       "       'sizeRange': [0, 10],\n",
       "       'radiusRange': [0, 50],\n",
       "       'heightRange': [0, 500],\n",
       "       'elevationScale': 5,\n",
       "       'enableElevationZoomFactor': True,\n",
       "       'stroked': True,\n",
       "       'filled': True,\n",
       "       'enable3d': False,\n",
       "       'wireframe': False},\n",
       "      'hidden': False,\n",
       "      'textLabel': [{'field': None,\n",
       "        'color': [255, 255, 255],\n",
       "        'size': 18,\n",
       "        'offset': [0, 0],\n",
       "        'anchor': 'start',\n",
       "        'alignment': 'center'}]},\n",
       "     'visualChannels': {'colorField': None,\n",
       "      'colorScale': 'quantile',\n",
       "      'strokeColorField': None,\n",
       "      'strokeColorScale': 'quantile',\n",
       "      'sizeField': None,\n",
       "      'sizeScale': 'linear',\n",
       "      'heightField': None,\n",
       "      'heightScale': 'linear',\n",
       "      'radiusField': None,\n",
       "      'radiusScale': 'linear'}}],\n",
       "   'interactionConfig': {'tooltip': {'fieldsToShow': {'Taux de fonction touristique du Finistère de 2018': [{'name': 'bins_TFT18',\n",
       "        'format': None},\n",
       "       {'name': 'insee', 'format': None},\n",
       "       {'name': 'nom', 'format': None},\n",
       "       {'name': 'taux_fonction_touristique18', 'format': None}]},\n",
       "     'compareMode': False,\n",
       "     'compareType': 'absolute',\n",
       "     'enabled': True},\n",
       "    'brush': {'size': 0.5, 'enabled': False},\n",
       "    'geocoder': {'enabled': False},\n",
       "    'coordinate': {'enabled': False}},\n",
       "   'layerBlending': 'normal',\n",
       "   'splitMaps': [],\n",
       "   'animationConfig': {'currentTime': None, 'speed': 1}},\n",
       "  'mapState': {'bearing': 0,\n",
       "   'dragRotate': False,\n",
       "   'latitude': 48.22923654988017,\n",
       "   'longitude': -4.265343799999998,\n",
       "   'pitch': 0,\n",
       "   'zoom': 8,\n",
       "   'isSplit': False},\n",
       "  'mapStyle': {'styleType': 'dark',\n",
       "   'topLayerGroups': {},\n",
       "   'visibleLayerGroups': {'label': True,\n",
       "    'road': True,\n",
       "    'border': False,\n",
       "    'building': True,\n",
       "    'water': True,\n",
       "    'land': True,\n",
       "    '3d building': False},\n",
       "   'threeDBuildingColor': [9.665468314072013,\n",
       "    17.18305478057247,\n",
       "    31.1442867897876],\n",
       "   'mapStyles': {}}}}"
      ]
     },
     "execution_count": 38,
     "metadata": {},
     "output_type": "execute_result"
    }
   ],
   "source": [
    "carto.config"
   ]
  },
  {
   "cell_type": "markdown",
   "metadata": {},
   "source": [
    "On change la configuration par défaut de la carte pour avoir une visualisation parlante."
   ]
  },
  {
   "cell_type": "code",
   "execution_count": 39,
   "metadata": {},
   "outputs": [],
   "source": [
    "tmp_config = carto.config\n",
    "\n",
    "layers = tmp_config['config']['visState']['layers']\n",
    "layer_to_update = [layer for layer in layers if layer['config']['dataId'] == \"Taux de fonction touristique du Finistère de 2018\"]\n",
    "layer_to_update = layer_to_update[0]\n",
    "\n",
    "# Pour signifier que le remplissage des communes se fait en fonction de la colonne bins_TFT18\n",
    "layer_to_update[\"visualChannels\"].update({\"colorField\": {\"name\": \"bins_TFT18\", \"type\": \"integer\"},\n",
    "                                          \"colorScale\": \"quantize\",\n",
    "                                         })\n",
    "\n",
    "# Pour changer la palette de couleurs remplissant les communes\n",
    "layer_to_update[\"config\"][\"visConfig\"][\"colorRange\"].update(palette_TFT18)\n",
    "\n",
    "# Pour changer l'épaisseur des frontières\n",
    "layer_to_update[\"config\"][\"visConfig\"][\"thickness\"] = 0.2\n",
    "\n",
    "# Pour changer la couleur des frontières ([0, 0, 0] réprésente la couleur noire en RGB)\n",
    "layer_to_update[\"config\"][\"visConfig\"][\"strokeColor\"] = [0, 0, 0]\n",
    "\n",
    "carto.config = tmp_config"
   ]
  },
  {
   "cell_type": "markdown",
   "metadata": {},
   "source": [
    "On enregistre la cartographie au format HTML."
   ]
  },
  {
   "cell_type": "code",
   "execution_count": 40,
   "metadata": {},
   "outputs": [
    {
     "name": "stdout",
     "output_type": "stream",
     "text": [
      "Map saved to ./Taux de fonction touristique du Finistère de 2018.html!\n"
     ]
    }
   ],
   "source": [
    "carto.save_to_html(file_name='./Taux de fonction touristique du Finistère de 2018.html')"
   ]
  },
  {
   "cell_type": "markdown",
   "metadata": {},
   "source": [
    "# Cartographie n°3 : TCAM de l’hébergement marchand du Finistère entre 2015 et 2018"
   ]
  },
  {
   "cell_type": "markdown",
   "metadata": {},
   "source": [
    "On décide de créer un nouveau dataframe, *df3*, en fusionnant les dataframes *BDD* (où on ne garde que les colonnes *insee* et *TCAM_15_18*) et *communes*. Comme on s'intéresse seulement au Finistère, on ne garde que les codes INSEE commençant par 29. "
   ]
  },
  {
   "cell_type": "code",
   "execution_count": 60,
   "metadata": {},
   "outputs": [],
   "source": [
    "df3 = BDD.drop(columns = ['marchands18', 'touristiques21', 'P18_RSECOCC',\n",
    "                          'marchands15', 'P15_RSECOCC', 'nom2', 'touristiques18',\n",
    "                          'POP18', 'taux_fonction_touristique18'])\n",
    "\n",
    "df3 = df3[df3.insee.str.startswith('29')]\n",
    "\n",
    "df3 = gpd.GeoDataFrame(df3).merge(communes, on='insee')"
   ]
  },
  {
   "cell_type": "markdown",
   "metadata": {},
   "source": [
    "On rencontre le même problème que dans la section *Cartographie n°1* car **Argol** est une commune du Finistère. On décide donc de supprimer cette ligne du jeu de données."
   ]
  },
  {
   "cell_type": "code",
   "execution_count": 61,
   "metadata": {},
   "outputs": [
    {
     "data": {
      "text/html": [
       "<div>\n",
       "<style scoped>\n",
       "    .dataframe tbody tr th:only-of-type {\n",
       "        vertical-align: middle;\n",
       "    }\n",
       "\n",
       "    .dataframe tbody tr th {\n",
       "        vertical-align: top;\n",
       "    }\n",
       "\n",
       "    .dataframe thead th {\n",
       "        text-align: right;\n",
       "    }\n",
       "</style>\n",
       "<table border=\"1\" class=\"dataframe\">\n",
       "  <thead>\n",
       "    <tr style=\"text-align: right;\">\n",
       "      <th></th>\n",
       "      <th>insee</th>\n",
       "      <th>TCAM_15_18</th>\n",
       "      <th>nom</th>\n",
       "      <th>geometry</th>\n",
       "    </tr>\n",
       "  </thead>\n",
       "  <tbody>\n",
       "  </tbody>\n",
       "</table>\n",
       "</div>"
      ],
      "text/plain": [
       "Empty GeoDataFrame\n",
       "Columns: [insee, TCAM_15_18, nom, geometry]\n",
       "Index: []"
      ]
     },
     "execution_count": 61,
     "metadata": {},
     "output_type": "execute_result"
    }
   ],
   "source": [
    "df3 = df3.drop(df3[df3.insee==\"29001\"].index)\n",
    "\n",
    "df3[df3.insee==\"29001\"] # Vérification si la commune Argol a bien été supprimée"
   ]
  },
  {
   "cell_type": "markdown",
   "metadata": {},
   "source": [
    "On transforme les valeurs inf en NA et on supprime les lignes où la valeur de la colonne *TCAM_15_18* est un NA."
   ]
  },
  {
   "cell_type": "code",
   "execution_count": 62,
   "metadata": {},
   "outputs": [
    {
     "data": {
      "text/html": [
       "<div>\n",
       "<style scoped>\n",
       "    .dataframe tbody tr th:only-of-type {\n",
       "        vertical-align: middle;\n",
       "    }\n",
       "\n",
       "    .dataframe tbody tr th {\n",
       "        vertical-align: top;\n",
       "    }\n",
       "\n",
       "    .dataframe thead th {\n",
       "        text-align: right;\n",
       "    }\n",
       "</style>\n",
       "<table border=\"1\" class=\"dataframe\">\n",
       "  <thead>\n",
       "    <tr style=\"text-align: right;\">\n",
       "      <th></th>\n",
       "      <th>insee</th>\n",
       "      <th>TCAM_15_18</th>\n",
       "      <th>nom</th>\n",
       "      <th>geometry</th>\n",
       "    </tr>\n",
       "  </thead>\n",
       "  <tbody>\n",
       "    <tr>\n",
       "      <th>199</th>\n",
       "      <td>29218</td>\n",
       "      <td>inf</td>\n",
       "      <td>Pont-Croix</td>\n",
       "      <td>POLYGON ((-4.53940 48.04911, -4.53928 48.05001...</td>\n",
       "    </tr>\n",
       "  </tbody>\n",
       "</table>\n",
       "</div>"
      ],
      "text/plain": [
       "     insee  TCAM_15_18         nom  \\\n",
       "199  29218         inf  Pont-Croix   \n",
       "\n",
       "                                              geometry  \n",
       "199  POLYGON ((-4.53940 48.04911, -4.53928 48.05001...  "
      ]
     },
     "execution_count": 62,
     "metadata": {},
     "output_type": "execute_result"
    }
   ],
   "source": [
    "df3[df3[\"TCAM_15_18\"]==max(df3[\"TCAM_15_18\"])]"
   ]
  },
  {
   "cell_type": "code",
   "execution_count": 63,
   "metadata": {},
   "outputs": [],
   "source": [
    "df3 = df3.replace([np.inf, -np.inf], np.nan)\\\n",
    ".dropna(subset=[\"TCAM_15_18\"], how=\"all\")"
   ]
  },
  {
   "cell_type": "code",
   "execution_count": 64,
   "metadata": {},
   "outputs": [
    {
     "data": {
      "text/html": [
       "<div>\n",
       "<style scoped>\n",
       "    .dataframe tbody tr th:only-of-type {\n",
       "        vertical-align: middle;\n",
       "    }\n",
       "\n",
       "    .dataframe tbody tr th {\n",
       "        vertical-align: top;\n",
       "    }\n",
       "\n",
       "    .dataframe thead th {\n",
       "        text-align: right;\n",
       "    }\n",
       "</style>\n",
       "<table border=\"1\" class=\"dataframe\">\n",
       "  <thead>\n",
       "    <tr style=\"text-align: right;\">\n",
       "      <th></th>\n",
       "      <th>insee</th>\n",
       "      <th>TCAM_15_18</th>\n",
       "      <th>nom</th>\n",
       "      <th>geometry</th>\n",
       "    </tr>\n",
       "  </thead>\n",
       "  <tbody>\n",
       "    <tr>\n",
       "      <th>73</th>\n",
       "      <td>29077</td>\n",
       "      <td>17.81</td>\n",
       "      <td>Guissény</td>\n",
       "      <td>MULTIPOLYGON (((-4.48600 48.63840, -4.48598 48...</td>\n",
       "    </tr>\n",
       "  </tbody>\n",
       "</table>\n",
       "</div>"
      ],
      "text/plain": [
       "    insee  TCAM_15_18       nom  \\\n",
       "73  29077       17.81  Guissény   \n",
       "\n",
       "                                             geometry  \n",
       "73  MULTIPOLYGON (((-4.48600 48.63840, -4.48598 48...  "
      ]
     },
     "execution_count": 64,
     "metadata": {},
     "output_type": "execute_result"
    }
   ],
   "source": [
    "df3[df3[\"TCAM_15_18\"]==max(df3[\"TCAM_15_18\"])] # Vérification si les valeurs inf ont bien été supprimées"
   ]
  },
  {
   "cell_type": "markdown",
   "metadata": {},
   "source": [
    "Pour lire la carte plus facilement, on décide d'ajouter de la couleur en fonction du taux de croissance annuel moyen de l’hébergement marchand entre 2015 et 2018 (palette nuancée du rouge au vert où le rouge représente un taux négatif et le vert un taux positif).\n",
    "\n",
    "Pour réaliser cela, on crée une nouvelle colonne, *bins_TCAM1518*, qui segmente et trier les valeurs de données de la colonne *TCAM_15_18* dans des \"bins\"."
   ]
  },
  {
   "cell_type": "code",
   "execution_count": 46,
   "metadata": {},
   "outputs": [],
   "source": [
    "# Création colonne bins_TCAM1518\n",
    "bins_TCAM1518 = pd.IntervalIndex.from_tuples([(-101.0, -50.0), (-50.0, -10.0),\n",
    "                                              (-10.0, -0.01), (-0.01, 0.01), (0.01, 10.0),\n",
    "                                              (10.0, 50.0), (50.0, float(\"inf\"))])\n",
    "                                        # Ici, les valeurs des intervalles sont choisies arbitrairement\n",
    "    \n",
    "bins_labels_mapping_TCAM1518 = dict(zip(bins_TCAM1518, range(1, len(bins_TCAM1518) + 1)))\n",
    "\n",
    "bins_TCAM1518 = pd.cut(df3['TCAM_15_18'],\n",
    "                    bins=bins_TCAM1518, retbins=False).map(bins_labels_mapping_TCAM1518).astype(float)\n",
    "\n",
    "df3['bins_TCAM1518'] = bins_TCAM1518\n",
    "\n",
    "# Création palette\n",
    "palette_TCAM1518 = {\n",
    "    'name': 'palette_TCAM1518',\n",
    "    'type': 'custom',\n",
    "    'category': 'Custom',\n",
    "    'colors': ['#d73027', '#f46d43', '#fdae61', '#fee08b', '#ffffbf', '#d9ef8b', '#a6d96a']}#, '#a6d96a', '#66bd63'"
   ]
  },
  {
   "cell_type": "code",
   "execution_count": 47,
   "metadata": {},
   "outputs": [
    {
     "data": {
      "text/html": [
       "<div>\n",
       "<style scoped>\n",
       "    .dataframe tbody tr th:only-of-type {\n",
       "        vertical-align: middle;\n",
       "    }\n",
       "\n",
       "    .dataframe tbody tr th {\n",
       "        vertical-align: top;\n",
       "    }\n",
       "\n",
       "    .dataframe thead th {\n",
       "        text-align: right;\n",
       "    }\n",
       "</style>\n",
       "<table border=\"1\" class=\"dataframe\">\n",
       "  <thead>\n",
       "    <tr style=\"text-align: right;\">\n",
       "      <th></th>\n",
       "      <th>insee</th>\n",
       "      <th>TCAM_15_18</th>\n",
       "      <th>nom</th>\n",
       "      <th>geometry</th>\n",
       "      <th>bins_TCAM1518</th>\n",
       "    </tr>\n",
       "  </thead>\n",
       "  <tbody>\n",
       "    <tr>\n",
       "      <th>1</th>\n",
       "      <td>29002</td>\n",
       "      <td>0.00</td>\n",
       "      <td>Arzano</td>\n",
       "      <td>POLYGON ((-3.50348 47.89572, -3.50334 47.89597...</td>\n",
       "      <td>4.0</td>\n",
       "    </tr>\n",
       "    <tr>\n",
       "      <th>2</th>\n",
       "      <td>29003</td>\n",
       "      <td>2.01</td>\n",
       "      <td>Audierne</td>\n",
       "      <td>POLYGON ((-4.60262 48.01621, -4.60257 48.01686...</td>\n",
       "      <td>5.0</td>\n",
       "    </tr>\n",
       "    <tr>\n",
       "      <th>3</th>\n",
       "      <td>29004</td>\n",
       "      <td>0.00</td>\n",
       "      <td>Bannalec</td>\n",
       "      <td>POLYGON ((-3.76427 47.92862, -3.76424 47.92912...</td>\n",
       "      <td>4.0</td>\n",
       "    </tr>\n",
       "    <tr>\n",
       "      <th>4</th>\n",
       "      <td>29005</td>\n",
       "      <td>0.00</td>\n",
       "      <td>Baye</td>\n",
       "      <td>POLYGON ((-3.63388 47.84362, -3.63286 47.84428...</td>\n",
       "      <td>4.0</td>\n",
       "    </tr>\n",
       "    <tr>\n",
       "      <th>5</th>\n",
       "      <td>29006</td>\n",
       "      <td>-0.83</td>\n",
       "      <td>Bénodet</td>\n",
       "      <td>POLYGON ((-4.11753 47.87927, -4.11749 47.87936...</td>\n",
       "      <td>3.0</td>\n",
       "    </tr>\n",
       "  </tbody>\n",
       "</table>\n",
       "</div>"
      ],
      "text/plain": [
       "   insee  TCAM_15_18       nom  \\\n",
       "1  29002        0.00    Arzano   \n",
       "2  29003        2.01  Audierne   \n",
       "3  29004        0.00  Bannalec   \n",
       "4  29005        0.00      Baye   \n",
       "5  29006       -0.83   Bénodet   \n",
       "\n",
       "                                            geometry  bins_TCAM1518  \n",
       "1  POLYGON ((-3.50348 47.89572, -3.50334 47.89597...            4.0  \n",
       "2  POLYGON ((-4.60262 48.01621, -4.60257 48.01686...            5.0  \n",
       "3  POLYGON ((-3.76427 47.92862, -3.76424 47.92912...            4.0  \n",
       "4  POLYGON ((-3.63388 47.84362, -3.63286 47.84428...            4.0  \n",
       "5  POLYGON ((-4.11753 47.87927, -4.11749 47.87936...            3.0  "
      ]
     },
     "execution_count": 47,
     "metadata": {},
     "output_type": "execute_result"
    }
   ],
   "source": [
    "df3.head()"
   ]
  },
  {
   "cell_type": "markdown",
   "metadata": {},
   "source": [
    "On crée ensuite l'objet cartographie et on ajoute les données à cet objet"
   ]
  },
  {
   "cell_type": "code",
   "execution_count": 48,
   "metadata": {},
   "outputs": [
    {
     "name": "stdout",
     "output_type": "stream",
     "text": [
      "User Guide: https://docs.kepler.gl/docs/keplergl-jupyter\n"
     ]
    }
   ],
   "source": [
    "carto = KeplerGl()\n",
    "carto.add_data(data=df3.to_json(), name=\"Taux de croissance annuel moyen de l’hébergement marchand entre 2015 et 2018\")"
   ]
  },
  {
   "cell_type": "markdown",
   "metadata": {},
   "source": [
    "L'objet *carto* doit afficher une carte intéractive.\n",
    "\n",
    "**A savoir** : Après avoir lancé le chunk suivant, on le met en commentaire et on relance le chunk pour éviter de surcharger le notebook."
   ]
  },
  {
   "cell_type": "code",
   "execution_count": 53,
   "metadata": {
    "scrolled": true
   },
   "outputs": [],
   "source": [
    "# carto"
   ]
  },
  {
   "cell_type": "markdown",
   "metadata": {},
   "source": [
    "On regarde la configuration par défaut de la cartographie.\n",
    "\n",
    "\n",
    "**A savoir** : Si le résultat du chunk suivant est un dictionnaire vide, relancer le chunk précédent jusqu'à ce que le dictionnaire ne soit plus vide."
   ]
  },
  {
   "cell_type": "code",
   "execution_count": 50,
   "metadata": {
    "scrolled": true
   },
   "outputs": [
    {
     "data": {
      "text/plain": [
       "{'version': 'v1',\n",
       " 'config': {'visState': {'filters': [],\n",
       "   'layers': [{'id': '3v1w0w',\n",
       "     'type': 'geojson',\n",
       "     'config': {'dataId': 'Taux de croissance annuel moyen de l’hébergement marchand entre 2015 et 2018',\n",
       "      'label': 'Taux de croissance annuel moyen de l’hébergement marchand entre 2015 et 2018',\n",
       "      'color': [241, 92, 23],\n",
       "      'highlightColor': [252, 242, 26, 255],\n",
       "      'columns': {'geojson': '_geojson'},\n",
       "      'isVisible': True,\n",
       "      'visConfig': {'opacity': 0.8,\n",
       "       'strokeOpacity': 0.8,\n",
       "       'thickness': 0.5,\n",
       "       'strokeColor': [34, 63, 154],\n",
       "       'colorRange': {'name': 'Global Warming',\n",
       "        'type': 'sequential',\n",
       "        'category': 'Uber',\n",
       "        'colors': ['#5A1846',\n",
       "         '#900C3F',\n",
       "         '#C70039',\n",
       "         '#E3611C',\n",
       "         '#F1920E',\n",
       "         '#FFC300']},\n",
       "       'strokeColorRange': {'name': 'Global Warming',\n",
       "        'type': 'sequential',\n",
       "        'category': 'Uber',\n",
       "        'colors': ['#5A1846',\n",
       "         '#900C3F',\n",
       "         '#C70039',\n",
       "         '#E3611C',\n",
       "         '#F1920E',\n",
       "         '#FFC300']},\n",
       "       'radius': 10,\n",
       "       'sizeRange': [0, 10],\n",
       "       'radiusRange': [0, 50],\n",
       "       'heightRange': [0, 500],\n",
       "       'elevationScale': 5,\n",
       "       'enableElevationZoomFactor': True,\n",
       "       'stroked': True,\n",
       "       'filled': True,\n",
       "       'enable3d': False,\n",
       "       'wireframe': False},\n",
       "      'hidden': False,\n",
       "      'textLabel': [{'field': None,\n",
       "        'color': [255, 255, 255],\n",
       "        'size': 18,\n",
       "        'offset': [0, 0],\n",
       "        'anchor': 'start',\n",
       "        'alignment': 'center'}]},\n",
       "     'visualChannels': {'colorField': None,\n",
       "      'colorScale': 'quantile',\n",
       "      'strokeColorField': None,\n",
       "      'strokeColorScale': 'quantile',\n",
       "      'sizeField': None,\n",
       "      'sizeScale': 'linear',\n",
       "      'heightField': None,\n",
       "      'heightScale': 'linear',\n",
       "      'radiusField': None,\n",
       "      'radiusScale': 'linear'}}],\n",
       "   'interactionConfig': {'tooltip': {'fieldsToShow': {'Taux de croissance annuel moyen de l’hébergement marchand entre 2015 et 2018': [{'name': 'TCAM_15_18',\n",
       "        'format': None},\n",
       "       {'name': 'bins_TCAM1518', 'format': None},\n",
       "       {'name': 'insee', 'format': None},\n",
       "       {'name': 'nom', 'format': None}]},\n",
       "     'compareMode': False,\n",
       "     'compareType': 'absolute',\n",
       "     'enabled': True},\n",
       "    'brush': {'size': 0.5, 'enabled': False},\n",
       "    'geocoder': {'enabled': False},\n",
       "    'coordinate': {'enabled': False}},\n",
       "   'layerBlending': 'normal',\n",
       "   'splitMaps': [],\n",
       "   'animationConfig': {'currentTime': None, 'speed': 1}},\n",
       "  'mapState': {'bearing': 0,\n",
       "   'dragRotate': False,\n",
       "   'latitude': 48.22923654988017,\n",
       "   'longitude': -4.265343799999998,\n",
       "   'pitch': 0,\n",
       "   'zoom': 8,\n",
       "   'isSplit': False},\n",
       "  'mapStyle': {'styleType': 'dark',\n",
       "   'topLayerGroups': {},\n",
       "   'visibleLayerGroups': {'label': True,\n",
       "    'road': True,\n",
       "    'border': False,\n",
       "    'building': True,\n",
       "    'water': True,\n",
       "    'land': True,\n",
       "    '3d building': False},\n",
       "   'threeDBuildingColor': [9.665468314072013,\n",
       "    17.18305478057247,\n",
       "    31.1442867897876],\n",
       "   'mapStyles': {}}}}"
      ]
     },
     "execution_count": 50,
     "metadata": {},
     "output_type": "execute_result"
    }
   ],
   "source": [
    "carto.config"
   ]
  },
  {
   "cell_type": "markdown",
   "metadata": {},
   "source": [
    "On change la configuration par défaut de la carte pour avoir une visualisation parlante."
   ]
  },
  {
   "cell_type": "code",
   "execution_count": 51,
   "metadata": {},
   "outputs": [],
   "source": [
    "tmp_config = carto.config\n",
    "\n",
    "layers = tmp_config['config']['visState']['layers']\n",
    "layer_to_update = [layer for layer in layers if layer['config']['dataId'] == \"Taux de croissance annuel moyen de l’hébergement marchand entre 2015 et 2018\"]\n",
    "layer_to_update = layer_to_update[0]\n",
    "\n",
    "# Pour signifier que le remplissage des communes se fait en fonction de la colonne bins_TCAM1518\n",
    "layer_to_update[\"visualChannels\"].update({\"colorField\": {\"name\": \"bins_TCAM1518\", \"type\": \"integer\"},\n",
    "                                          \"colorScale\": \"quantize\",\n",
    "                                         }) \n",
    "\n",
    "# Pour changer la palette de couleurs remplissant les communes\n",
    "layer_to_update[\"config\"][\"visConfig\"][\"colorRange\"].update(palette_TCAM1518)\n",
    "\n",
    "# Pour changer l'épaisseur des frontières\n",
    "layer_to_update[\"config\"][\"visConfig\"][\"thickness\"] = 0.2\n",
    "\n",
    "# Pour changer la couleur des frontières ([0, 0, 0] réprésente la couleur noire en RGB)\n",
    "layer_to_update[\"config\"][\"visConfig\"][\"strokeColor\"] = [0, 0, 0]\n",
    "\n",
    "carto.config = tmp_config"
   ]
  },
  {
   "cell_type": "markdown",
   "metadata": {},
   "source": [
    "On enregistre la cartographie au format HTML."
   ]
  },
  {
   "cell_type": "code",
   "execution_count": 52,
   "metadata": {},
   "outputs": [
    {
     "name": "stdout",
     "output_type": "stream",
     "text": [
      "Map saved to ./Taux de croissance annuel moyen de l’hébergement marchand entre 2015 et 2018.html!\n"
     ]
    }
   ],
   "source": [
    "carto.save_to_html(file_name='./Taux de croissance annuel moyen de l’hébergement marchand entre 2015 et 2018.html')"
   ]
  },
  {
   "cell_type": "markdown",
   "metadata": {},
   "source": [
    "# Sources"
   ]
  },
  {
   "cell_type": "markdown",
   "metadata": {},
   "source": [
    "1) Données spatiales: découverte de geopandas : https://linogaliana-teaching.netlify.app/geopandas/\n",
    "\n",
    "2) Wikipédia : https://fr.wikipedia.org/wiki/Saint-G%C3%A9rand\n",
    "\n",
    "3) Géoconfluences : http://geoconfluences.ens-lyon.fr/glossaire/taux-de-fonction-touristique-doccupation\n",
    "\n",
    "4) Séries historiques en 2018 : Recensement de la population - Base des principaux indicateurs : https://www.insee.fr/fr/statistiques/5395965#dictionnaire\n",
    "\n",
    "5) Atout France : Expérimentation nationale sur la réhabilitation de l’immobilier de loisir et la transition énergétique des stations, p22 : https://www.atout-france.fr/sites/default/files/imce/FTI_ImmobilierDeLoisirStation_RapportExperimentation2020.pdf\n",
    "\n",
    "6) Les hébergements touristiques dans le département de la Manche, p1 : https://www.manche.gouv.fr/content/download/5233/30675/file/note-hebergements-touristiques.pdf\n",
    "\n",
    "7) Sciences économiques et sociales Lycée Alexandre Dumas – Saint-Cloud : http://seslescours.free.fr/?p=1568\n",
    "\n",
    "8) Wikipédia : https://fr.wikipedia.org/wiki/Argol_(Finist%C3%A8re)\n",
    "\n",
    "9) La fonction touristique des territoires : facteur de pression ou de préservation de l'environnement ?, p8 : https://www.statistiques.developpement-durable.gouv.fr/sites/default/files/2018-10/datalab-17-la-fonction-touristique-des-territoires...mars2017a.pdf"
   ]
  }
 ],
 "metadata": {
  "kernelspec": {
   "display_name": "Python 3 (ipykernel)",
   "language": "python",
   "name": "python3"
  },
  "language_info": {
   "codemirror_mode": {
    "name": "ipython",
    "version": 3
   },
   "file_extension": ".py",
   "mimetype": "text/x-python",
   "name": "python",
   "nbconvert_exporter": "python",
   "pygments_lexer": "ipython3",
   "version": "3.7.11"
  }
 },
 "nbformat": 4,
 "nbformat_minor": 4
}
